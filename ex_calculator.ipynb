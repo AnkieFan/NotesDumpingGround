{
 "cells": [
  {
   "cell_type": "code",
   "execution_count": 1,
   "metadata": {},
   "outputs": [
    {
     "ename": "NameError",
     "evalue": "name 'np' is not defined",
     "output_type": "error",
     "traceback": [
      "\u001b[1;31m---------------------------------------------------------------------------\u001b[0m",
      "\u001b[1;31mNameError\u001b[0m                                 Traceback (most recent call last)",
      "\u001b[1;32mc:\\Users\\AnkieF\\Desktop\\NotesDumpingGround\\aaa.ipynb Cell 1\u001b[0m in \u001b[0;36m<cell line: 1>\u001b[1;34m()\u001b[0m\n\u001b[1;32m----> <a href='vscode-notebook-cell:/c%3A/Users/AnkieF/Desktop/NotesDumpingGround/aaa.ipynb#W0sZmlsZQ%3D%3D?line=0'>1</a>\u001b[0m e \u001b[39m=\u001b[39m \u001b[39m-\u001b[39m\u001b[39m5\u001b[39m\u001b[39m/\u001b[39m\u001b[39m12\u001b[39m\u001b[39m*\u001b[39mnp\u001b[39m.\u001b[39mlog2(\u001b[39m5\u001b[39m\u001b[39m/\u001b[39m\u001b[39m12\u001b[39m)\u001b[39m-\u001b[39m\u001b[39m7\u001b[39m\u001b[39m/\u001b[39m\u001b[39m12\u001b[39m\u001b[39m*\u001b[39mnp\u001b[39m.\u001b[39mlog2(\u001b[39m7\u001b[39m\u001b[39m/\u001b[39m\u001b[39m12\u001b[39m)\n\u001b[0;32m      <a href='vscode-notebook-cell:/c%3A/Users/AnkieF/Desktop/NotesDumpingGround/aaa.ipynb#W0sZmlsZQ%3D%3D?line=1'>2</a>\u001b[0m e\n",
      "\u001b[1;31mNameError\u001b[0m: name 'np' is not defined"
     ]
    }
   ],
   "source": [
    "e = -5/12*np.log2(5/12)-7/12*np.log2(7/12)\n",
    "e"
   ]
  },
  {
   "cell_type": "code",
   "execution_count": null,
   "metadata": {},
   "outputs": [
    {
     "data": {
      "text/plain": [
       "0.9709505944546686"
      ]
     },
     "execution_count": 11,
     "metadata": {},
     "output_type": "execute_result"
    }
   ],
   "source": [
    "e = -2/5*np.log2(2/5)-3/5*np.log2(3/5)\n",
    "e"
   ]
  },
  {
   "cell_type": "code",
   "execution_count": null,
   "metadata": {},
   "outputs": [
    {
     "name": "stdout",
     "output_type": "stream",
     "text": [
      "[30. 56. 12.  0.  1.  0.  1.]\n",
      "[3.024e+01 5.040e+01 1.080e+01 7.200e+00 9.000e-01 4.500e-01 1.000e-02]\n"
     ]
    },
    {
     "data": {
      "text/plain": [
       "106.42857142857142"
      ]
     },
     "execution_count": 11,
     "metadata": {},
     "output_type": "execute_result"
    }
   ],
   "source": [
    "import numpy as np\n",
    "\n",
    "a = np.array([0.3,0.56,0.12,0,0.01,0,0.01])*100\n",
    "e = np.array([0.3024,0.5040,0.108,0.072,0.009,0.0045,0.0001])*100\n",
    "print(a)\n",
    "print(e)\n",
    "np.sum((a-e)**2/e)"
   ]
  },
  {
   "cell_type": "code",
   "execution_count": null,
   "metadata": {},
   "outputs": [
    {
     "data": {
      "text/plain": [
       "3.1216931216931205"
      ]
     },
     "execution_count": 53,
     "metadata": {},
     "output_type": "execute_result"
    }
   ],
   "source": [
    "a = np.array([35,48,11,5,0,1,0])\n",
    "e = np.array([0.3024,0.5040,0.108,0.072,0.009,0.0045,0.0001])*100\n",
    "np.sum((a-e)**2/e)"
   ]
  },
  {
   "cell_type": "code",
   "execution_count": null,
   "metadata": {},
   "outputs": [
    {
     "name": "stdout",
     "output_type": "stream",
     "text": [
      "[0.00245 0.073   0.0215  0.1469  0.13235 0.2147  0.2058  0.1134  0.0575\n",
      " 0.0351 ]\n",
      "0.2147\n",
      "[0.09755 0.027   0.0785  0.2469  0.23235 0.3147  0.3058  0.2134  0.1575\n",
      " 0.0649 ]\n",
      "0.3147\n"
     ]
    }
   ],
   "source": [
    "x = np.array([-1,-0.8049,-0.7460,-0.4430,0.0938,0.2647,0.6294,0.8116,0.8268,0.915,0.9298])\n",
    "y = 0.5*x+0.5\n",
    "p = np.array([0,0.1,0.2,0.3,0.4,0.5,0.6,0.7,0.8,0.9,1,1])\n",
    "Dplus = np.zeros(10)\n",
    "Dmin = np.zeros(10)\n",
    "for i in range(10):\n",
    "    Dplus[i] = np.abs(y[i+1] - p[i+1])\n",
    "    Dmin[i] = np.abs(p[i] - y[i+1])\n",
    "\n",
    "print(Dplus)\n",
    "print(Dplus.max())\n",
    "print(Dmin)\n",
    "print(Dmin.max())"
   ]
  },
  {
   "cell_type": "code",
   "execution_count": null,
   "metadata": {},
   "outputs": [
    {
     "name": "stdout",
     "output_type": "stream",
     "text": [
      "[0.15791667 0.16485833 0.1958     0.30374167 0.05560833 0.        ]\n",
      "0.3037416666666666\n",
      "[ 0.00180833 -0.02913333 -0.137075    0.11105833  0.11286667  0.        ]\n",
      "0.11286666666666656\n"
     ]
    }
   ],
   "source": [
    "x = np.array([2.035,2.6739,3.2168,3.4517,5.1109,5.7848])\n",
    "y = (x-2)/4\n",
    "p = np.array([1/6,1/3,1/2,2/3,5/6,1])\n",
    "Dplus = np.zeros(6)\n",
    "Dmin = np.zeros(6)\n",
    "for i in range(5):\n",
    "    Dplus[i] = p[i] - y[i]\n",
    "    if i < 5:\n",
    "        Dmin[i] = y[i+1] - p[i]\n",
    "\n",
    "print(Dplus)\n",
    "print(Dplus.max())\n",
    "print(Dmin)\n",
    "print(Dmin.max())"
   ]
  },
  {
   "cell_type": "code",
   "execution_count": null,
   "metadata": {},
   "outputs": [
    {
     "name": "stdout",
     "output_type": "stream",
     "text": [
      "[ 0.00245  0.073    0.0215  -0.1469  -0.13235 -0.2147  -0.2058  -0.1134\n",
      " -0.0575   0.0351 ]\n",
      "0.07300000000000001\n",
      "[0.027   0.0785  0.2469  0.23235 0.3147  0.3058  0.2134  0.1575  0.0649\n",
      " 0.     ]\n",
      "0.3147\n"
     ]
    }
   ],
   "source": [
    "x = np.array([-0.8049,-0.7460,-0.4430,0.0938,0.2647,0.6294,0.8116,0.8268,0.915,0.9298])\n",
    "y = 0.5*x+0.5\n",
    "p = np.array([0.1,0.2,0.3,0.4,0.5,0.6,0.7,0.8,0.9,1])\n",
    "Dplus = np.zeros(10)\n",
    "Dmin = np.zeros(10)\n",
    "for i in range(10):\n",
    "    Dplus[i] = p[i] - y[i]\n",
    "    if i < 9:\n",
    "        Dmin[i] = y[i+1] - p[i]\n",
    "\n",
    "print(Dplus)\n",
    "print(Dplus.max())\n",
    "print(Dmin)\n",
    "print(Dmin.max())"
   ]
  },
  {
   "cell_type": "code",
   "execution_count": null,
   "metadata": {},
   "outputs": [
    {
     "data": {
      "text/plain": [
       "array([0.01194688, 0.09548754, 0.33228947, 0.62504827, 0.63406284,\n",
       "       0.7045964 , 0.8057021 , 0.96666558])"
      ]
     },
     "execution_count": 51,
     "metadata": {},
     "output_type": "execute_result"
    }
   ],
   "source": [
    "x = np.array([-4.7765,-1.9231,0.6992,2.9563,3.0279,3.6130,4.5865,7.5017])\n",
    "from scipy.stats import norm\n",
    "\n",
    "y = norm.cdf(x,loc=2,scale=3)\n",
    "y"
   ]
  },
  {
   "cell_type": "code",
   "execution_count": null,
   "metadata": {},
   "outputs": [
    {
     "name": "stdout",
     "output_type": "stream",
     "text": [
      "[ 0.11305312  0.15451246  0.04271053 -0.12504827 -0.00906284  0.0454036\n",
      "  0.0692979   0.03333442]\n",
      "0.15451245832432664\n",
      "[-0.02951246  0.08228947  0.25004827  0.13406284  0.0795964   0.0557021\n",
      "  0.09166558  0.        ]\n",
      "0.25004827159986864\n"
     ]
    }
   ],
   "source": [
    "p = np.array([1/8,2/8,3/8,1/2,5/8,6/8,7/8,1])\n",
    "Dplus = np.zeros(8)\n",
    "Dmin = np.zeros(8)\n",
    "for i in range(8):\n",
    "    Dplus[i] = p[i] - y[i]\n",
    "    if i < 7:\n",
    "        Dmin[i] = y[i+1] - p[i]\n",
    "\n",
    "print(Dplus)\n",
    "print(Dplus.max())\n",
    "print(Dmin)\n",
    "print(Dmin.max())"
   ]
  },
  {
   "cell_type": "code",
   "execution_count": null,
   "metadata": {},
   "outputs": [
    {
     "data": {
      "text/plain": [
       "0.46766642700990924"
      ]
     },
     "execution_count": 56,
     "metadata": {},
     "output_type": "execute_result"
    }
   ],
   "source": [
    "np.exp(-0.02*38)"
   ]
  },
  {
   "cell_type": "code",
   "execution_count": null,
   "metadata": {},
   "outputs": [
    {
     "data": {
      "text/plain": [
       "0.08333333333333333"
      ]
     },
     "execution_count": 57,
     "metadata": {},
     "output_type": "execute_result"
    }
   ],
   "source": [
    "5/60"
   ]
  },
  {
   "cell_type": "code",
   "execution_count": 2,
   "metadata": {},
   "outputs": [
    {
     "data": {
      "text/plain": [
       "36.88"
      ]
     },
     "execution_count": 2,
     "metadata": {},
     "output_type": "execute_result"
    }
   ],
   "source": [
    "import numpy as np\n",
    "\n",
    "# X ~ U(2,4)\n",
    "# n = 200, bins = 8\n",
    "# 按照假设的均匀分布每个bins应该有200/8 = 25个数据\n",
    "actual = np.array([7,17,20,26,45,35,27,23])\n",
    "expect = np.array([25,25,25,25,25,25,25,25])\n",
    "chi_square = np.sum((actual-expect)**2/expect)\n",
    "chi_square\n",
    "# alpha = 0.01 critical point = 18.48\n",
    "# chi square > 18.48 拒绝原假设"
   ]
  },
  {
   "cell_type": "code",
   "execution_count": 8,
   "metadata": {},
   "outputs": [
    {
     "data": {
      "text/plain": [
       "3800.9955555555553"
      ]
     },
     "execution_count": 8,
     "metadata": {},
     "output_type": "execute_result"
    }
   ],
   "source": [
    "x = np.array([41.2,38.6,45,35.8,55.2,39,40.7,47.4,40.4,39.3,34.1,42,30.6,45,51.3])*10\n",
    "x.var()"
   ]
  },
  {
   "cell_type": "code",
   "execution_count": 10,
   "metadata": {},
   "outputs": [
    {
     "name": "stdout",
     "output_type": "stream",
     "text": [
      "[array([358, 386, 386, 513, 513, 420, 450, 412, 386, 393, 404, 450, 390,\n",
      "       474, 412]), array([393, 407, 412, 386, 420, 390, 306, 341, 450, 393, 341, 450, 358,\n",
      "       358, 306]), array([450, 386, 358, 358, 341, 341, 393, 407, 474, 450, 412, 341, 407,\n",
      "       404, 450]), array([393, 341, 390, 404, 306, 390, 552, 513, 552, 450, 420, 412, 407,\n",
      "       306, 552]), array([450, 450, 450, 341, 450, 474, 412, 306, 341, 407, 407, 404, 407,\n",
      "       306, 386]), array([552, 412, 420, 552, 358, 306, 513, 513, 341, 450, 420, 341, 386,\n",
      "       306, 390]), array([358, 474, 306, 386, 474, 404, 513, 450, 306, 306, 407, 420, 552,\n",
      "       412, 450]), array([306, 341, 306, 552, 306, 412, 513, 412, 404, 420, 407, 341, 412,\n",
      "       450, 407]), array([386, 386, 513, 420, 420, 404, 552, 552, 474, 450, 450, 390, 474,\n",
      "       420, 407]), array([450, 513, 390, 450, 420, 552, 407, 450, 474, 390, 513, 306, 306,\n",
      "       404, 552])]\n",
      "[380.73333333 398.13333333 399.26666667 399.4        414.53333333\n",
      " 417.33333333 423.13333333 425.86666667 438.46666667 446.53333333]\n"
     ]
    }
   ],
   "source": [
    "x = np.array([358,386,386, 513,513,420,450,412,386,393,404,450,390,474,412,393,407,412,386,420,390,306,341,450,393,341,450,358,358,306,450,386,358,358,341,341,393,407,474,450,412,341,407,404,450,393,341,390,404,306,390,552,513,552,450,420,412,407,306,552,450,450,450,341,450,474,412,306,341,407,407,404,407,306,386,552,412,420,552,358,306,513,513,341,450,420,341,386,306,390,358,474,306,386,474,404,513,450,306,306,407,420,552,412,450,306,341,306,552,306,412,513,412,404,420,407,341,412,450,407,386,386,513,420,420,404,552,552,474,450,450,390,474,420,407,450,513,390,450,420,552,407,450,474,390,513,306,306,404,552])\n",
    "newarr = np.array_split(x, 10)\n",
    "print(newarr)\n",
    "r = np.zeros(10)\n",
    "d = np.zeros(10)\n",
    "for i in range(10):\n",
    "    d[i] = np.mean(newarr[i])\n",
    "print(np.sort(d))"
   ]
  },
  {
   "cell_type": "code",
   "execution_count": 77,
   "metadata": {},
   "outputs": [
    {
     "data": {
      "text/plain": [
       "387.67"
      ]
     },
     "execution_count": 77,
     "metadata": {},
     "output_type": "execute_result"
    }
   ],
   "source": [
    "417.1-29.43"
   ]
  },
  {
   "cell_type": "code",
   "execution_count": 78,
   "metadata": {},
   "outputs": [
    {
     "data": {
      "text/plain": [
       "453.47"
      ]
     },
     "execution_count": 78,
     "metadata": {},
     "output_type": "execute_result"
    }
   ],
   "source": [
    "417.1+36.37"
   ]
  },
  {
   "cell_type": "code",
   "execution_count": 37,
   "metadata": {},
   "outputs": [
    {
     "data": {
      "text/plain": [
       "0.8073438004191565"
      ]
     },
     "execution_count": 37,
     "metadata": {},
     "output_type": "execute_result"
    }
   ],
   "source": [
    "y = np.array([13.95,11.01,10.41,12.87,12.36,11.17,13.5,11.89,10.09,10.28,12.7])\n",
    "z = 1.64*np.sqrt(y.var()**2/11)\n",
    "z"
   ]
  },
  {
   "cell_type": "code",
   "execution_count": 38,
   "metadata": {},
   "outputs": [
    {
     "data": {
      "text/plain": [
       "12.646434709510064"
      ]
     },
     "execution_count": 38,
     "metadata": {},
     "output_type": "execute_result"
    }
   ],
   "source": [
    "y.mean() + z"
   ]
  },
  {
   "cell_type": "code",
   "execution_count": 39,
   "metadata": {},
   "outputs": [
    {
     "data": {
      "text/plain": [
       "11.031747108671752"
      ]
     },
     "execution_count": 39,
     "metadata": {},
     "output_type": "execute_result"
    }
   ],
   "source": [
    "y.mean() - z"
   ]
  },
  {
   "cell_type": "code",
   "execution_count": 45,
   "metadata": {},
   "outputs": [
    {
     "data": {
      "text/plain": [
       "11.839090896762475"
      ]
     },
     "execution_count": 45,
     "metadata": {},
     "output_type": "execute_result"
    }
   ],
   "source": [
    "1.372*np.sqrt(np.sum(y-y.mean())/110)"
   ]
  },
  {
   "cell_type": "code",
   "execution_count": 50,
   "metadata": {},
   "outputs": [
    {
     "data": {
      "text/plain": [
       "3404521.15587072"
      ]
     },
     "execution_count": 50,
     "metadata": {},
     "output_type": "execute_result"
    }
   ],
   "source": [
    "(2.872**2)*0.7962/((5/3600)**2)"
   ]
  },
  {
   "cell_type": "code",
   "execution_count": 51,
   "metadata": {},
   "outputs": [
    {
     "data": {
      "text/plain": [
       "112885.40381183999"
      ]
     },
     "execution_count": 51,
     "metadata": {},
     "output_type": "execute_result"
    }
   ],
   "source": [
    "(2.872**2)*0.0264/((5/3600)**2)"
   ]
  },
  {
   "cell_type": "code",
   "execution_count": 54,
   "metadata": {},
   "outputs": [
    {
     "data": {
      "text/plain": [
       "0.46766642700990924"
      ]
     },
     "execution_count": 54,
     "metadata": {},
     "output_type": "execute_result"
    }
   ],
   "source": [
    "np.exp(-0.02*38)"
   ]
  },
  {
   "cell_type": "code",
   "execution_count": 52,
   "metadata": {},
   "outputs": [
    {
     "data": {
      "text/plain": [
       "1026658.53997056"
      ]
     },
     "execution_count": 52,
     "metadata": {},
     "output_type": "execute_result"
    }
   ],
   "source": [
    "(2.872**2)*0.2401/((5/3600)**2)"
   ]
  },
  {
   "cell_type": "code",
   "execution_count": 57,
   "metadata": {},
   "outputs": [
    {
     "data": {
      "text/plain": [
       "2.0944540000000003"
      ]
     },
     "execution_count": 57,
     "metadata": {},
     "output_type": "execute_result"
    }
   ],
   "source": [
    "x = np.array([6.6,9.13,6.9,9.63,9.32,9.82,7.7,9.79,9.75,5.66,6.86,7.04,7.85,7.74,6.53,5.61,7.25,5.25,6.55,7.34])\n",
    "x.mean()\n",
    "x.var()"
   ]
  },
  {
   "cell_type": "code",
   "execution_count": 60,
   "metadata": {},
   "outputs": [
    {
     "data": {
      "text/plain": [
       "2.886098421212143"
      ]
     },
     "execution_count": 60,
     "metadata": {},
     "output_type": "execute_result"
    }
   ],
   "source": [
    "(8.43-6.802)/np.sqrt(2.4602/10+0.7217/10)"
   ]
  },
  {
   "cell_type": "code",
   "execution_count": 4,
   "metadata": {},
   "outputs": [
    {
     "data": {
      "text/plain": [
       "array([655.56327056, 431.68150784, 333.87629456])"
      ]
     },
     "execution_count": 4,
     "metadata": {},
     "output_type": "execute_result"
    }
   ],
   "source": [
    "# 27.2\n",
    "# k = 3, n0 = 20, P* = 0.95\n",
    "# from table we can find that h1 = 2.872\n",
    "# d* = 2 (since the mean it provided are all xx%)\n",
    "\n",
    "s = np.array([18.1,14.8,13.1])\n",
    "number = (2.872**2)*(s**2)/(2**2) # h1^2*s1^2 / d*^2\n",
    "number - 20"
   ]
  },
  {
   "cell_type": "code",
   "execution_count": 136,
   "metadata": {},
   "outputs": [],
   "source": [
    "t1 = np.array([2699,2778,3037,902,5285,4172,3092,5217,2135,3744,3605,4166,4159,2982,3816,3682,4474,4940,4956,2983])\n",
    "t2 = np.array([4151,3211,4297,2638,2007,1981,3891,3225,3206,4823,3694,3600,4990,2598,4099,4238,3159,3618,2237,2255])"
   ]
  },
  {
   "cell_type": "code",
   "execution_count": 133,
   "metadata": {},
   "outputs": [
    {
     "data": {
      "text/plain": [
       "array([-1452,  -433, -1260, -1736,  3278,  2191,  -799,  1992, -1071,\n",
       "       -1079,   -89,   566,  -831,   384,  -283,  -556,  1315,  1322,\n",
       "        2719,   728])"
      ]
     },
     "execution_count": 133,
     "metadata": {},
     "output_type": "execute_result"
    }
   ],
   "source": [
    "z = t1-t2\n",
    "z"
   ]
  },
  {
   "cell_type": "code",
   "execution_count": 134,
   "metadata": {},
   "outputs": [
    {
     "data": {
      "text/plain": [
       "-323.409271236886"
      ]
     },
     "execution_count": 134,
     "metadata": {},
     "output_type": "execute_result"
    }
   ],
   "source": [
    "z.mean() - 1.729*np.sqrt(np.sum((z-z.mean())**2) / (20*19))"
   ]
  },
  {
   "cell_type": "code",
   "execution_count": 135,
   "metadata": {},
   "outputs": [
    {
     "data": {
      "text/plain": [
       "814.009271236886"
      ]
     },
     "execution_count": 135,
     "metadata": {},
     "output_type": "execute_result"
    }
   ],
   "source": [
    "z.mean() + 1.729*np.sqrt(np.sum((z-z.mean())**2) / (20*19))"
   ]
  },
  {
   "cell_type": "code",
   "execution_count": 141,
   "metadata": {},
   "outputs": [
    {
     "data": {
      "text/plain": [
       "695.0748649616639"
      ]
     },
     "execution_count": 141,
     "metadata": {},
     "output_type": "execute_result"
    }
   ],
   "source": [
    "(2.453**2)*t1.var()/10000"
   ]
  },
  {
   "cell_type": "code",
   "execution_count": 142,
   "metadata": {},
   "outputs": [
    {
     "data": {
      "text/plain": [
       "467.25745340847095"
      ]
     },
     "execution_count": 142,
     "metadata": {},
     "output_type": "execute_result"
    }
   ],
   "source": [
    "2.453**2*t2.var()/10000"
   ]
  },
  {
   "attachments": {},
   "cell_type": "markdown",
   "metadata": {},
   "source": [
    "#### PPT里的例题"
   ]
  },
  {
   "cell_type": "code",
   "execution_count": 119,
   "metadata": {},
   "outputs": [
    {
     "data": {
      "text/plain": [
       "array([-2.4139, -0.5054,  0.2074,  3.5936,  2.1779])"
      ]
     },
     "execution_count": 119,
     "metadata": {},
     "output_type": "execute_result"
    }
   ],
   "source": [
    "t1 = np.array([2.127,4.2164,4.3521,5.4543,3.527])\n",
    "t2 = np.array([4.5409,4.7218,4.1447,1.8607,1.3491])\n",
    "z = t1-t2\n",
    "z"
   ]
  },
  {
   "cell_type": "code",
   "execution_count": 130,
   "metadata": {},
   "outputs": [
    {
     "data": {
      "text/plain": [
       "-1.6195791307588814"
      ]
     },
     "execution_count": 130,
     "metadata": {},
     "output_type": "execute_result"
    }
   ],
   "source": [
    "z.mean() - 2.132*np.sqrt(np.sum((z-z.mean())**2) / 20)"
   ]
  },
  {
   "cell_type": "code",
   "execution_count": 131,
   "metadata": {},
   "outputs": [
    {
     "data": {
      "text/plain": [
       "2.8434191307588814"
      ]
     },
     "execution_count": 131,
     "metadata": {},
     "output_type": "execute_result"
    }
   ],
   "source": [
    "z.mean() + 2.132*np.sqrt(np.sum((z-z.mean())**2) / 20)"
   ]
  },
  {
   "attachments": {},
   "cell_type": "markdown",
   "metadata": {},
   "source": [
    "### 25.2"
   ]
  },
  {
   "cell_type": "code",
   "execution_count": 7,
   "metadata": {},
   "outputs": [
    {
     "data": {
      "text/plain": [
       "0.6980995456794369"
      ]
     },
     "execution_count": 7,
     "metadata": {},
     "output_type": "execute_result"
    }
   ],
   "source": [
    "x= np.array([13.95,11.01,10.41,12.87,12.36,11.17,13.5,11.89,10.09,10.28,12.7])\n",
    "1.812*np.sqrt(x.var()/len(x))"
   ]
  },
  {
   "cell_type": "code",
   "execution_count": 8,
   "metadata": {},
   "outputs": [
    {
     "data": {
      "text/plain": [
       "11.141900454320563"
      ]
     },
     "execution_count": 8,
     "metadata": {},
     "output_type": "execute_result"
    }
   ],
   "source": [
    "11.84 - 1.812*np.sqrt(x.var()/len(x))"
   ]
  }
 ],
 "metadata": {
  "kernelspec": {
   "display_name": "base",
   "language": "python",
   "name": "python3"
  },
  "language_info": {
   "codemirror_mode": {
    "name": "ipython",
    "version": 3
   },
   "file_extension": ".py",
   "mimetype": "text/x-python",
   "name": "python",
   "nbconvert_exporter": "python",
   "pygments_lexer": "ipython3",
   "version": "3.9.13"
  },
  "orig_nbformat": 4,
  "vscode": {
   "interpreter": {
    "hash": "e97e4ccf2f2017fe19623886582ba8d34dc0f85668fa692ecb30fa97945f713c"
   }
  }
 },
 "nbformat": 4,
 "nbformat_minor": 2
}
