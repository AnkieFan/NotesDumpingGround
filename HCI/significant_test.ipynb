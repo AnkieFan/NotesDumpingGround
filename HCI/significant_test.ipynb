{
 "cells": [
  {
   "cell_type": "code",
   "execution_count": 1,
   "metadata": {},
   "outputs": [
    {
     "data": {
      "text/html": [
       "<div>\n",
       "<style scoped>\n",
       "    .dataframe tbody tr th:only-of-type {\n",
       "        vertical-align: middle;\n",
       "    }\n",
       "\n",
       "    .dataframe tbody tr th {\n",
       "        vertical-align: top;\n",
       "    }\n",
       "\n",
       "    .dataframe thead th {\n",
       "        text-align: right;\n",
       "    }\n",
       "</style>\n",
       "<table border=\"1\" class=\"dataframe\">\n",
       "  <thead>\n",
       "    <tr style=\"text-align: right;\">\n",
       "      <th></th>\n",
       "      <th>What is your current level of education or professional experience in your field of study?</th>\n",
       "      <th>Do you have experience writing a literature review?</th>\n",
       "      <th>Do you have trouble developing an appropriate search query when starting to write a literature review?</th>\n",
       "      <th>Which steps were you able to complete? (Multiple choices)</th>\n",
       "      <th>I feel confident while starting to create a new project.</th>\n",
       "      <th>I feel confident while filling in basic information.</th>\n",
       "      <th>I feel confident while uploading samples.</th>\n",
       "      <th>I feel confident while constructing the query.</th>\n",
       "      <th>My experience using other applications helped me in completing the tasks.</th>\n",
       "      <th>I can always find which step I am now and what the coming steps are.</th>\n",
       "      <th>The actions I took always met with a response.</th>\n",
       "      <th>The builded search query is exactly like what I need.</th>\n",
       "      <th>I feel ____ while using this app.</th>\n",
       "      <th>Are there any features of this app that you think are missing or could be improved?</th>\n",
       "    </tr>\n",
       "  </thead>\n",
       "  <tbody>\n",
       "    <tr>\n",
       "      <th>0</th>\n",
       "      <td>PhD</td>\n",
       "      <td>Yes</td>\n",
       "      <td>Yes</td>\n",
       "      <td>Start to create a new project, Step 1: fill in...</td>\n",
       "      <td>5</td>\n",
       "      <td>5</td>\n",
       "      <td>5</td>\n",
       "      <td>4</td>\n",
       "      <td>4</td>\n",
       "      <td>5</td>\n",
       "      <td>4</td>\n",
       "      <td>4</td>\n",
       "      <td>Acceptant</td>\n",
       "      <td>NaN</td>\n",
       "    </tr>\n",
       "    <tr>\n",
       "      <th>1</th>\n",
       "      <td>PhD</td>\n",
       "      <td>Yes</td>\n",
       "      <td>Yes</td>\n",
       "      <td>Start to create a new project, Step 1: fill in...</td>\n",
       "      <td>4</td>\n",
       "      <td>5</td>\n",
       "      <td>4</td>\n",
       "      <td>4</td>\n",
       "      <td>5</td>\n",
       "      <td>5</td>\n",
       "      <td>5</td>\n",
       "      <td>5</td>\n",
       "      <td>Joy</td>\n",
       "      <td>NaN</td>\n",
       "    </tr>\n",
       "    <tr>\n",
       "      <th>2</th>\n",
       "      <td>PhD</td>\n",
       "      <td>Yes</td>\n",
       "      <td>No</td>\n",
       "      <td>Start to create a new project, Step 1: fill in...</td>\n",
       "      <td>4</td>\n",
       "      <td>4</td>\n",
       "      <td>4</td>\n",
       "      <td>4</td>\n",
       "      <td>4</td>\n",
       "      <td>4</td>\n",
       "      <td>4</td>\n",
       "      <td>4</td>\n",
       "      <td>None</td>\n",
       "      <td>NaN</td>\n",
       "    </tr>\n",
       "    <tr>\n",
       "      <th>3</th>\n",
       "      <td>PhD</td>\n",
       "      <td>Yes</td>\n",
       "      <td>No</td>\n",
       "      <td>Start to create a new project, Step 1: fill in...</td>\n",
       "      <td>2</td>\n",
       "      <td>4</td>\n",
       "      <td>3</td>\n",
       "      <td>2</td>\n",
       "      <td>5</td>\n",
       "      <td>4</td>\n",
       "      <td>5</td>\n",
       "      <td>3</td>\n",
       "      <td>Surprised</td>\n",
       "      <td>I don't think the icon fits the user's mental ...</td>\n",
       "    </tr>\n",
       "    <tr>\n",
       "      <th>4</th>\n",
       "      <td>PhD</td>\n",
       "      <td>Yes</td>\n",
       "      <td>Yes</td>\n",
       "      <td>Start to create a new project, Step 1: fill in...</td>\n",
       "      <td>5</td>\n",
       "      <td>5</td>\n",
       "      <td>4</td>\n",
       "      <td>4</td>\n",
       "      <td>4</td>\n",
       "      <td>5</td>\n",
       "      <td>5</td>\n",
       "      <td>3</td>\n",
       "      <td>Surprised</td>\n",
       "      <td>NaN</td>\n",
       "    </tr>\n",
       "    <tr>\n",
       "      <th>5</th>\n",
       "      <td>PhD</td>\n",
       "      <td>Yes</td>\n",
       "      <td>No</td>\n",
       "      <td>Start to create a new project, Step 1: fill in...</td>\n",
       "      <td>5</td>\n",
       "      <td>5</td>\n",
       "      <td>4</td>\n",
       "      <td>3</td>\n",
       "      <td>5</td>\n",
       "      <td>4</td>\n",
       "      <td>4</td>\n",
       "      <td>4</td>\n",
       "      <td>Acceptant</td>\n",
       "      <td>NaN</td>\n",
       "    </tr>\n",
       "    <tr>\n",
       "      <th>6</th>\n",
       "      <td>PhD</td>\n",
       "      <td>Yes</td>\n",
       "      <td>No</td>\n",
       "      <td>Step 4: construct the query</td>\n",
       "      <td>4</td>\n",
       "      <td>4</td>\n",
       "      <td>5</td>\n",
       "      <td>3</td>\n",
       "      <td>3</td>\n",
       "      <td>4</td>\n",
       "      <td>4</td>\n",
       "      <td>3</td>\n",
       "      <td>Acceptant</td>\n",
       "      <td>NaN</td>\n",
       "    </tr>\n",
       "    <tr>\n",
       "      <th>7</th>\n",
       "      <td>PhD</td>\n",
       "      <td>Yes</td>\n",
       "      <td>No</td>\n",
       "      <td>Start to create a new project, Step 1: fill in...</td>\n",
       "      <td>5</td>\n",
       "      <td>5</td>\n",
       "      <td>5</td>\n",
       "      <td>5</td>\n",
       "      <td>5</td>\n",
       "      <td>5</td>\n",
       "      <td>5</td>\n",
       "      <td>5</td>\n",
       "      <td>Surprised</td>\n",
       "      <td>NaN</td>\n",
       "    </tr>\n",
       "    <tr>\n",
       "      <th>8</th>\n",
       "      <td>PhD</td>\n",
       "      <td>Yes</td>\n",
       "      <td>No</td>\n",
       "      <td>Step 4: construct the query</td>\n",
       "      <td>5</td>\n",
       "      <td>5</td>\n",
       "      <td>4</td>\n",
       "      <td>3</td>\n",
       "      <td>3</td>\n",
       "      <td>4</td>\n",
       "      <td>4</td>\n",
       "      <td>4</td>\n",
       "      <td>Surprised</td>\n",
       "      <td>The design is good. I feel the system sometime...</td>\n",
       "    </tr>\n",
       "    <tr>\n",
       "      <th>9</th>\n",
       "      <td>PhD</td>\n",
       "      <td>Yes</td>\n",
       "      <td>Yes</td>\n",
       "      <td>Start to create a new project, Step 1: fill in...</td>\n",
       "      <td>5</td>\n",
       "      <td>4</td>\n",
       "      <td>3</td>\n",
       "      <td>2</td>\n",
       "      <td>2</td>\n",
       "      <td>5</td>\n",
       "      <td>5</td>\n",
       "      <td>2</td>\n",
       "      <td>Acceptant</td>\n",
       "      <td>The accuracy of search results needs to be imp...</td>\n",
       "    </tr>\n",
       "    <tr>\n",
       "      <th>10</th>\n",
       "      <td>PhD</td>\n",
       "      <td>Yes</td>\n",
       "      <td>Yes</td>\n",
       "      <td>Start to create a new project, Step 1: fill in...</td>\n",
       "      <td>5</td>\n",
       "      <td>5</td>\n",
       "      <td>5</td>\n",
       "      <td>4</td>\n",
       "      <td>5</td>\n",
       "      <td>4</td>\n",
       "      <td>4</td>\n",
       "      <td>3</td>\n",
       "      <td>Acceptant</td>\n",
       "      <td>The year and the type of the paper.</td>\n",
       "    </tr>\n",
       "    <tr>\n",
       "      <th>11</th>\n",
       "      <td>PhD</td>\n",
       "      <td>Yes</td>\n",
       "      <td>Yes</td>\n",
       "      <td>Start to create a new project, Step 1: fill in...</td>\n",
       "      <td>4</td>\n",
       "      <td>5</td>\n",
       "      <td>5</td>\n",
       "      <td>4</td>\n",
       "      <td>5</td>\n",
       "      <td>4</td>\n",
       "      <td>3</td>\n",
       "      <td>3</td>\n",
       "      <td>None</td>\n",
       "      <td>I created a project but it cannot show in the ...</td>\n",
       "    </tr>\n",
       "  </tbody>\n",
       "</table>\n",
       "</div>"
      ],
      "text/plain": [
       "   What is your current level of education or professional experience in your field of study?  \\\n",
       "0                                                 PhD                                           \n",
       "1                                                 PhD                                           \n",
       "2                                                 PhD                                           \n",
       "3                                                 PhD                                           \n",
       "4                                                 PhD                                           \n",
       "5                                                 PhD                                           \n",
       "6                                                 PhD                                           \n",
       "7                                                 PhD                                           \n",
       "8                                                 PhD                                           \n",
       "9                                                 PhD                                           \n",
       "10                                                PhD                                           \n",
       "11                                                PhD                                           \n",
       "\n",
       "   Do you have experience writing a literature review?  \\\n",
       "0                                                 Yes    \n",
       "1                                                 Yes    \n",
       "2                                                 Yes    \n",
       "3                                                 Yes    \n",
       "4                                                 Yes    \n",
       "5                                                 Yes    \n",
       "6                                                 Yes    \n",
       "7                                                 Yes    \n",
       "8                                                 Yes    \n",
       "9                                                 Yes    \n",
       "10                                                Yes    \n",
       "11                                                Yes    \n",
       "\n",
       "   Do you have trouble developing an appropriate search query when starting to write a literature review?  \\\n",
       "0                                                 Yes                                                       \n",
       "1                                                 Yes                                                       \n",
       "2                                                  No                                                       \n",
       "3                                                  No                                                       \n",
       "4                                                 Yes                                                       \n",
       "5                                                  No                                                       \n",
       "6                                                  No                                                       \n",
       "7                                                  No                                                       \n",
       "8                                                  No                                                       \n",
       "9                                                 Yes                                                       \n",
       "10                                                Yes                                                       \n",
       "11                                                Yes                                                       \n",
       "\n",
       "   Which steps were you able to complete? (Multiple choices)  \\\n",
       "0   Start to create a new project, Step 1: fill in...          \n",
       "1   Start to create a new project, Step 1: fill in...          \n",
       "2   Start to create a new project, Step 1: fill in...          \n",
       "3   Start to create a new project, Step 1: fill in...          \n",
       "4   Start to create a new project, Step 1: fill in...          \n",
       "5   Start to create a new project, Step 1: fill in...          \n",
       "6                         Step 4: construct the query          \n",
       "7   Start to create a new project, Step 1: fill in...          \n",
       "8                         Step 4: construct the query          \n",
       "9   Start to create a new project, Step 1: fill in...          \n",
       "10  Start to create a new project, Step 1: fill in...          \n",
       "11  Start to create a new project, Step 1: fill in...          \n",
       "\n",
       "    I feel confident while starting to create a new project.  \\\n",
       "0                                                   5          \n",
       "1                                                   4          \n",
       "2                                                   4          \n",
       "3                                                   2          \n",
       "4                                                   5          \n",
       "5                                                   5          \n",
       "6                                                   4          \n",
       "7                                                   5          \n",
       "8                                                   5          \n",
       "9                                                   5          \n",
       "10                                                  5          \n",
       "11                                                  4          \n",
       "\n",
       "    I feel confident while filling in basic information.  \\\n",
       "0                                                   5      \n",
       "1                                                   5      \n",
       "2                                                   4      \n",
       "3                                                   4      \n",
       "4                                                   5      \n",
       "5                                                   5      \n",
       "6                                                   4      \n",
       "7                                                   5      \n",
       "8                                                   5      \n",
       "9                                                   4      \n",
       "10                                                  5      \n",
       "11                                                  5      \n",
       "\n",
       "    I feel confident while uploading samples.  \\\n",
       "0                                           5   \n",
       "1                                           4   \n",
       "2                                           4   \n",
       "3                                           3   \n",
       "4                                           4   \n",
       "5                                           4   \n",
       "6                                           5   \n",
       "7                                           5   \n",
       "8                                           4   \n",
       "9                                           3   \n",
       "10                                          5   \n",
       "11                                          5   \n",
       "\n",
       "    I feel confident while constructing the query.  \\\n",
       "0                                                4   \n",
       "1                                                4   \n",
       "2                                                4   \n",
       "3                                                2   \n",
       "4                                                4   \n",
       "5                                                3   \n",
       "6                                                3   \n",
       "7                                                5   \n",
       "8                                                3   \n",
       "9                                                2   \n",
       "10                                               4   \n",
       "11                                               4   \n",
       "\n",
       "    My experience using other applications helped me in completing the tasks.  \\\n",
       "0                                                   4                           \n",
       "1                                                   5                           \n",
       "2                                                   4                           \n",
       "3                                                   5                           \n",
       "4                                                   4                           \n",
       "5                                                   5                           \n",
       "6                                                   3                           \n",
       "7                                                   5                           \n",
       "8                                                   3                           \n",
       "9                                                   2                           \n",
       "10                                                  5                           \n",
       "11                                                  5                           \n",
       "\n",
       "    I can always find which step I am now and what the coming steps are.  \\\n",
       "0                                                   5                      \n",
       "1                                                   5                      \n",
       "2                                                   4                      \n",
       "3                                                   4                      \n",
       "4                                                   5                      \n",
       "5                                                   4                      \n",
       "6                                                   4                      \n",
       "7                                                   5                      \n",
       "8                                                   4                      \n",
       "9                                                   5                      \n",
       "10                                                  4                      \n",
       "11                                                  4                      \n",
       "\n",
       "    The actions I took always met with a response.  \\\n",
       "0                                                4   \n",
       "1                                                5   \n",
       "2                                                4   \n",
       "3                                                5   \n",
       "4                                                5   \n",
       "5                                                4   \n",
       "6                                                4   \n",
       "7                                                5   \n",
       "8                                                4   \n",
       "9                                                5   \n",
       "10                                               4   \n",
       "11                                               3   \n",
       "\n",
       "    The builded search query is exactly like what I need.  \\\n",
       "0                                                   4       \n",
       "1                                                   5       \n",
       "2                                                   4       \n",
       "3                                                   3       \n",
       "4                                                   3       \n",
       "5                                                   4       \n",
       "6                                                   3       \n",
       "7                                                   5       \n",
       "8                                                   4       \n",
       "9                                                   2       \n",
       "10                                                  3       \n",
       "11                                                  3       \n",
       "\n",
       "   I feel ____ while using this app.  \\\n",
       "0                          Acceptant   \n",
       "1                                Joy   \n",
       "2                               None   \n",
       "3                          Surprised   \n",
       "4                          Surprised   \n",
       "5                          Acceptant   \n",
       "6                          Acceptant   \n",
       "7                          Surprised   \n",
       "8                          Surprised   \n",
       "9                          Acceptant   \n",
       "10                         Acceptant   \n",
       "11                              None   \n",
       "\n",
       "   Are there any features of this app that you think are missing or could be improved?  \n",
       "0                                                 NaN                                   \n",
       "1                                                 NaN                                   \n",
       "2                                                 NaN                                   \n",
       "3   I don't think the icon fits the user's mental ...                                   \n",
       "4                                                 NaN                                   \n",
       "5                                                 NaN                                   \n",
       "6                                                 NaN                                   \n",
       "7                                                 NaN                                   \n",
       "8   The design is good. I feel the system sometime...                                   \n",
       "9   The accuracy of search results needs to be imp...                                   \n",
       "10               The year and the type of the paper.                                    \n",
       "11  I created a project but it cannot show in the ...                                   "
      ]
     },
     "execution_count": 1,
     "metadata": {},
     "output_type": "execute_result"
    }
   ],
   "source": [
    "import pandas as pd\n",
    "import matplotlib.pyplot as plt\n",
    "\n",
    "df1 = pd.read_excel(\"result.xlsx\", sheet_name= \"low\")\n",
    "df2 = pd.read_excel(\"result.xlsx\", sheet_name= \"high\")\n",
    "df2"
   ]
  },
  {
   "cell_type": "code",
   "execution_count": 2,
   "metadata": {},
   "outputs": [
    {
     "data": {
      "text/plain": [
       "([<matplotlib.patches.Wedge at 0x1f0a8226820>,\n",
       "  <matplotlib.patches.Wedge at 0x1f0a8226c10>],\n",
       " [Text(-0.5212555909091209, 0.968655051577177, 'student:23'),\n",
       "  Text(0.5212556816011501, -0.968655002773702, 'researcher:12')])"
      ]
     },
     "execution_count": 2,
     "metadata": {},
     "output_type": "execute_result"
    },
    {
     "data": {
      "image/png": "[encoded data removed]",
      "text/plain": [
       "<Figure size 640x480 with 1 Axes>"
      ]
     },
     "metadata": {},
     "output_type": "display_data"
    }
   ],
   "source": [
    "# student/researcher\n",
    "plt.pie([df1.shape[0], df2.shape[0]],\n",
    "        labels=[f'student:{df1.shape[0]}',f'researcher:{df2.shape[0]}'], \n",
    "        colors=[\"#00A2DB\", \"#F3A687\"],\n",
    "       )"
   ]
  },
  {
   "cell_type": "code",
   "execution_count": 3,
   "metadata": {},
   "outputs": [
    {
     "data": {
      "text/plain": [
       "([<matplotlib.patches.Wedge at 0x1f0a98c3eb0>,\n",
       "  <matplotlib.patches.Wedge at 0x1f0a98d0640>],\n",
       " [Text(-0.5060716130681925, 0.9766737031611724, 'Yes'),\n",
       "  Text(0.5060717045109816, -0.9766736557793242, 'No')],\n",
       " [Text(-0.2760390616735595, 0.5327311108151849, '65.22%'),\n",
       "  Text(0.2760391115514445, -0.5327310849705404, '34.78%')])"
      ]
     },
     "execution_count": 3,
     "metadata": {},
     "output_type": "execute_result"
    },
    {
     "data": {
      "image/png": "[encoded data removed]",
      "text/plain": [
       "<Figure size 640x480 with 1 Axes>"
      ]
     },
     "metadata": {},
     "output_type": "display_data"
    }
   ],
   "source": [
    "# student lr\n",
    "plt.pie(df1[\"Do you have experience writing a literature review?\"].value_counts(),\n",
    "        labels=['Yes','No'],\n",
    "        colors=[\"#00A2DB\", \"#F3A687\"],\n",
    "        autopct= '%1.2f%%'\n",
    "       )"
   ]
  },
  {
   "cell_type": "code",
   "execution_count": 4,
   "metadata": {},
   "outputs": [
    {
     "data": {
      "text/plain": [
       "([<matplotlib.patches.Wedge at 0x1f0a9919550>],\n",
       " [Text(-1.1, 1.3471114790620887e-16, 'Yes')],\n",
       " [Text(-0.6, 7.347880794884119e-17, '100.00%')])"
      ]
     },
     "execution_count": 4,
     "metadata": {},
     "output_type": "execute_result"
    },
    {
     "data": {
      "image/png": "[encoded data removed]",
      "text/plain": [
       "<Figure size 640x480 with 1 Axes>"
      ]
     },
     "metadata": {},
     "output_type": "display_data"
    }
   ],
   "source": [
    "# researcher lr\n",
    "plt.pie(df2[\"Do you have experience writing a literature review?\"].value_counts(),\n",
    "        labels=['Yes'],\n",
    "        colors=[\"#00A2DB\", \"#F3A687\"],\n",
    "        autopct= '%1.2f%%'\n",
    "       )"
   ]
  },
  {
   "cell_type": "code",
   "execution_count": 5,
   "metadata": {},
   "outputs": [
    {
     "data": {
      "text/plain": [
       "([<matplotlib.patches.Wedge at 0x1f0a814cdc0>,\n",
       "  <matplotlib.patches.Wedge at 0x1f0a8158520>],\n",
       " [Text(-0.7508084640855961, 0.8039195545932617, 'Yes'),\n",
       "  Text(0.7508084640855958, -0.803919554593262, 'No')],\n",
       " [Text(-0.4095318895012342, 0.4385015752326881, '73.91%'),\n",
       "  Text(0.409531889501234, -0.43850157523268835, '26.09%')])"
      ]
     },
     "execution_count": 5,
     "metadata": {},
     "output_type": "execute_result"
    },
    {
     "data": {
      "image/png": "[encoded data removed]",
      "text/plain": [
       "<Figure size 640x480 with 1 Axes>"
      ]
     },
     "metadata": {},
     "output_type": "display_data"
    }
   ],
   "source": [
    "plt.pie(df1[\"Do you have trouble developing an appropriate search query when starting to write a literature review?\"].value_counts(),\n",
    "        labels=['Yes','No'],\n",
    "        colors=[\"#00A2DB\", \"#F3A687\"],\n",
    "        autopct= '%1.2f%%'\n",
    "       )"
   ]
  },
  {
   "cell_type": "code",
   "execution_count": 6,
   "metadata": {},
   "outputs": [
    {
     "data": {
      "text/plain": [
       "([<matplotlib.patches.Wedge at 0x1f0a81e45e0>,\n",
       "  <matplotlib.patches.Wedge at 0x1f0a81e4d30>],\n",
       " [Text(6.735557395310444e-17, 1.1, 'Yes'),\n",
       "  Text(-2.0206672185931328e-16, -1.1, 'No')],\n",
       " [Text(3.6739403974420595e-17, 0.6, '50.00%'),\n",
       "  Text(-1.1021821192326178e-16, -0.6, '50.00%')])"
      ]
     },
     "execution_count": 6,
     "metadata": {},
     "output_type": "execute_result"
    },
    {
     "data": {
      "image/png": "[encoded data removed]",
      "text/plain": [
       "<Figure size 640x480 with 1 Axes>"
      ]
     },
     "metadata": {},
     "output_type": "display_data"
    }
   ],
   "source": [
    "plt.pie(df2[\"Do you have trouble developing an appropriate search query when starting to write a literature review?\"].value_counts(),\n",
    "        labels=['Yes','No'],\n",
    "        colors=[\"#00A2DB\", \"#F3A687\"],\n",
    "        autopct= '%1.2f%%'\n",
    "       )"
   ]
  },
  {
   "attachments": {},
   "cell_type": "markdown",
   "metadata": {},
   "source": [
    "# 4 steps"
   ]
  },
  {
   "cell_type": "code",
   "execution_count": 7,
   "metadata": {},
   "outputs": [
    {
     "name": "stdout",
     "output_type": "stream",
     "text": [
      "[3.5652173913043477, 3.652173913043478, 3.608695652173913, 3.347826086956522]\n",
      "[4.416666666666667, 4.666666666666667, 4.25, 3.5]\n",
      "t-statistic: -3.5518531511583196\n",
      "p-value: 0.03804037540174106\n"
     ]
    }
   ],
   "source": [
    "import scipy.stats as stats\n",
    "\n",
    "# Null hypo: student group has higher level of overall steps\n",
    "\n",
    "group1 = [df1[\"I feel confident while starting to create a new project.\"].mean(), df1[\"I feel confident while filling in basic information.\"].mean(), df1[\"I feel confident while uploading samples.\"].mean(), df1[\"I feel confident while constructing the query.\"].mean()]\n",
    "group2 = [df2[\"I feel confident while starting to create a new project.\"].mean(), df2[\"I feel confident while filling in basic information.\"].mean(), df2[\"I feel confident while uploading samples.\"].mean(), df2[\"I feel confident while constructing the query.\"].mean()]\n",
    "print(group1)\n",
    "print(group2)\n",
    "\n",
    "\n",
    "t_stat, p_val = stats.ttest_rel(group1, group2)\n",
    "\n",
    "print(\"t-statistic:\", t_stat)\n",
    "print(\"p-value:\", p_val)"
   ]
  },
  {
   "attachments": {},
   "cell_type": "markdown",
   "metadata": {},
   "source": [
    "## Null hypo: student group can do better in each step"
   ]
  },
  {
   "cell_type": "code",
   "execution_count": 8,
   "metadata": {},
   "outputs": [
    {
     "name": "stdout",
     "output_type": "stream",
     "text": [
      "t-statistic: -2.435705796616713\n",
      "p-value: 0.010855170095944597\n"
     ]
    }
   ],
   "source": [
    "group1 = df1[\"I feel confident while starting to create a new project.\"]\n",
    "group2 = df2[\"I feel confident while starting to create a new project.\"]\n",
    "\n",
    "t_stat, p_val = stats.ttest_ind(group1, group2,  equal_var=False, alternative='less')\n",
    "\n",
    "print(\"t-statistic:\", t_stat)\n",
    "print(\"p-value:\", p_val)"
   ]
  },
  {
   "cell_type": "code",
   "execution_count": 9,
   "metadata": {},
   "outputs": [
    {
     "name": "stdout",
     "output_type": "stream",
     "text": [
      "t-statistic: -3.633773742537493\n",
      "p-value: 0.0004808576027347831\n"
     ]
    }
   ],
   "source": [
    "group1 = df1[\"I feel confident while filling in basic information.\"]\n",
    "group2 = df2[\"I feel confident while filling in basic information.\"]\n",
    "\n",
    "t_stat, p_val = stats.ttest_ind(group1, group2,  equal_var=False, alternative='less')\n",
    "\n",
    "print(\"t-statistic:\", t_stat)\n",
    "print(\"p-value:\", p_val)"
   ]
  },
  {
   "cell_type": "code",
   "execution_count": 10,
   "metadata": {},
   "outputs": [
    {
     "name": "stdout",
     "output_type": "stream",
     "text": [
      "t-statistic: -2.241028690600699\n",
      "p-value: 0.016893694661044574\n"
     ]
    }
   ],
   "source": [
    "group1 = df1[\"I feel confident while uploading samples.\"]\n",
    "group2 = df2[\"I feel confident while uploading samples.\"]\n",
    "\n",
    "t_stat, p_val = stats.ttest_ind(group1, group2,  equal_var=False, alternative='less')\n",
    "\n",
    "print(\"t-statistic:\", t_stat)\n",
    "print(\"p-value:\", p_val)"
   ]
  },
  {
   "cell_type": "code",
   "execution_count": 11,
   "metadata": {},
   "outputs": [
    {
     "name": "stdout",
     "output_type": "stream",
     "text": [
      "t-statistic: -0.42883129682046145\n",
      "p-value: 0.3356862905099923\n"
     ]
    }
   ],
   "source": [
    "group1 = df1[\"I feel confident while constructing the query.\"]\n",
    "group2 = df2[\"I feel confident while constructing the query.\"]\n",
    "\n",
    "t_stat, p_val = stats.ttest_ind(group1, group2,  equal_var=False, alternative='less')\n",
    "\n",
    "print(\"t-statistic:\", t_stat)\n",
    "print(\"p-value:\", p_val)"
   ]
  },
  {
   "attachments": {},
   "cell_type": "markdown",
   "metadata": {},
   "source": [
    "# 4 properties"
   ]
  },
  {
   "cell_type": "code",
   "execution_count": 12,
   "metadata": {},
   "outputs": [
    {
     "name": "stdout",
     "output_type": "stream",
     "text": [
      "[3.4347826086956523, 3.6956521739130435, 3.608695652173913, 3.4347826086956523]\n",
      "[4.166666666666667, 4.416666666666667, 4.333333333333333, 3.5833333333333335]\n",
      "t-statistic: -4.028795016940818\n",
      "p-value: 0.02748707420070571\n"
     ]
    }
   ],
   "source": [
    "# Null hypo: student group has higher level of overall learnibility\n",
    "group1 = [df1[\"My experience using other applications helped me in completing the tasks.\"].mean(), df1[\"I can always find which step I am now and what the coming steps are.\"].mean(), df1[\"The actions I took always met with a response.\"].mean(), df1[\"The builded search query is exactly like what I need.\"].mean()]\n",
    "group2 = [df2[\"My experience using other applications helped me in completing the tasks.\"].mean(), df2[\"I can always find which step I am now and what the coming steps are.\"].mean(), df2[\"The actions I took always met with a response.\"].mean(), df2[\"The builded search query is exactly like what I need.\"].mean()]\n",
    "\n",
    "print(group1)\n",
    "print(group2)\n",
    "t_stat, p_val = stats.ttest_rel(group1, group2)\n",
    "\n",
    "print(\"t-statistic:\", t_stat)\n",
    "print(\"p-value:\", p_val)"
   ]
  },
  {
   "attachments": {},
   "cell_type": "markdown",
   "metadata": {},
   "source": [
    "## Null hypo: student group has higher level of each properties of learnibility"
   ]
  },
  {
   "cell_type": "code",
   "execution_count": 13,
   "metadata": {},
   "outputs": [
    {
     "name": "stdout",
     "output_type": "stream",
     "text": [
      "t-statistic: -2.020771714737487\n",
      "p-value: 0.027910154191448888\n"
     ]
    }
   ],
   "source": [
    "group1 = df1[\"My experience using other applications helped me in completing the tasks.\"]\n",
    "group2 = df2[\"My experience using other applications helped me in completing the tasks.\"]\n",
    "\n",
    "t_stat, p_val = stats.ttest_ind(group1, group2,  equal_var=False, alternative='less')\n",
    "\n",
    "print(\"t-statistic:\", t_stat)\n",
    "print(\"p-value:\", p_val)"
   ]
  },
  {
   "cell_type": "code",
   "execution_count": 14,
   "metadata": {},
   "outputs": [
    {
     "name": "stdout",
     "output_type": "stream",
     "text": [
      "t-statistic: -3.1777108893368413\n",
      "p-value: 0.0016519381815514175\n"
     ]
    }
   ],
   "source": [
    "group1 = df1[\"I can always find which step I am now and what the coming steps are.\"]\n",
    "group2 = df2[\"I can always find which step I am now and what the coming steps are.\"]\n",
    "\n",
    "t_stat, p_val = stats.ttest_ind(group1, group2,  equal_var=False, alternative='less')\n",
    "\n",
    "print(\"t-statistic:\", t_stat)\n",
    "print(\"p-value:\", p_val)"
   ]
  },
  {
   "cell_type": "code",
   "execution_count": 15,
   "metadata": {},
   "outputs": [
    {
     "name": "stdout",
     "output_type": "stream",
     "text": [
      "t-statistic: -2.5979404134717807\n",
      "p-value: 0.0071148797514760265\n"
     ]
    }
   ],
   "source": [
    "group1 = df1[\"The actions I took always met with a response.\"]\n",
    "group2 = df2[\"The actions I took always met with a response.\"]\n",
    "\n",
    "t_stat, p_val = stats.ttest_ind(group1, group2,  equal_var=False, alternative='less')\n",
    "\n",
    "print(\"t-statistic:\", t_stat)\n",
    "print(\"p-value:\", p_val)"
   ]
  },
  {
   "cell_type": "code",
   "execution_count": 16,
   "metadata": {},
   "outputs": [
    {
     "name": "stdout",
     "output_type": "stream",
     "text": [
      "t-statistic: -0.46413892662109935\n",
      "p-value: 0.32352177108089847\n"
     ]
    }
   ],
   "source": [
    "group1 = df1[\"The builded search query is exactly like what I need.\"]\n",
    "group2 = df2[\"The builded search query is exactly like what I need.\"]\n",
    "\n",
    "t_stat, p_val = stats.ttest_ind(group1, group2,  equal_var=False, alternative='less')\n",
    "\n",
    "print(\"t-statistic:\", t_stat)\n",
    "print(\"p-value:\", p_val)"
   ]
  },
  {
   "attachments": {},
   "cell_type": "markdown",
   "metadata": {},
   "source": [
    "# Emotions"
   ]
  },
  {
   "cell_type": "code",
   "execution_count": 17,
   "metadata": {},
   "outputs": [
    {
     "name": "stdout",
     "output_type": "stream",
     "text": [
      "2.608695652173913\n",
      "2.8333333333333335\n",
      "t-statistic: -0.3595316588732234\n",
      "p-value: 0.7234346354599477\n"
     ]
    }
   ],
   "source": [
    "import numpy as np\n",
    "\n",
    "# There is no significant difference in the emotions when using the app between the two groups of users\n",
    "group1 = df1[\"I feel ____ while using this app.\"].values.tolist()\n",
    "group2 = df2[\"I feel ____ while using this app.\"].values.tolist()\n",
    "d = {\"Surprised\":5, \"Joy\":4, \"Anticipate\":3, \"Acceptant\":2, \"None\":0}\n",
    "for i in range(len(group1)):\n",
    "    group1[i] = d[group1[i]]\n",
    "for i in range(len(group2)):\n",
    "    group2[i] = d[group2[i]]\n",
    "\n",
    "print(np.mean(group1))\n",
    "print(np.mean(group2))\n",
    "\n",
    "t_stat, p_val = stats.ttest_ind(group1, group2, equal_var=False)\n",
    "\n",
    "print(\"t-statistic:\", t_stat)\n",
    "print(\"p-value:\", p_val) "
   ]
  }
 ],
 "metadata": {
  "kernelspec": {
   "display_name": "base",
   "language": "python",
   "name": "python3"
  },
  "language_info": {
   "codemirror_mode": {
    "name": "ipython",
    "version": 3
   },
   "file_extension": ".py",
   "mimetype": "text/x-python",
   "name": "python",
   "nbconvert_exporter": "python",
   "pygments_lexer": "ipython3",
   "version": "3.9.13"
  },
  "orig_nbformat": 4
 },
 "nbformat": 4,
 "nbformat_minor": 2
}
