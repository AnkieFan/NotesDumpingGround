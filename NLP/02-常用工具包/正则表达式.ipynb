{
 "cells": [
  {
   "cell_type": "markdown",
   "metadata": {},
   "source": [
    "# 正则表达式\n",
    "\n",
    "+ `.` 匹配任意字符（除\\n换行）\n",
    "  + a.c -> abc\n",
    "+ `\\` 转义字符\n",
    "+ `[]` 字符集\n",
    "\n",
    "## Python正则表达式\n",
    "+ 制定好匹配的模式 pattern\n",
    "+ 选择相应的方法 match, search等\n",
    "+ 得到匹配结果 group"
   ]
  },
  {
   "cell_type": "code",
   "execution_count": 1,
   "metadata": {},
   "outputs": [],
   "source": [
    "import re"
   ]
  },
  {
   "cell_type": "code",
   "execution_count": 7,
   "metadata": {},
   "outputs": [],
   "source": [
    "input = '自然语言处理很重要 。 12abc789'"
   ]
  },
  {
   "cell_type": "code",
   "execution_count": 3,
   "metadata": {},
   "outputs": [],
   "source": [
    "pattern = re.compile(r'.')"
   ]
  },
  {
   "cell_type": "code",
   "execution_count": 4,
   "metadata": {},
   "outputs": [
    {
     "data": {
      "text/plain": [
       "['自',\n",
       " '然',\n",
       " '语',\n",
       " '言',\n",
       " '处',\n",
       " '理',\n",
       " '很',\n",
       " '重',\n",
       " '要',\n",
       " ' ',\n",
       " '。',\n",
       " ' ',\n",
       " '1',\n",
       " '2',\n",
       " 'a',\n",
       " 'b',\n",
       " 'c',\n",
       " '7',\n",
       " '8',\n",
       " '9']"
      ]
     },
     "execution_count": 4,
     "metadata": {},
     "output_type": "execute_result"
    }
   ],
   "source": [
    "re.findall(pattern,input)"
   ]
  },
  {
   "cell_type": "markdown",
   "metadata": {},
   "source": [
    "## 字符集合\n",
    "+ `[abc]` 指定包含字符abc\n",
    "+ `[a-zA-Z]` 指定所有英文字母的大小写\n",
    "+ `[^a-zA-Z]` 指定不匹配所有英文单词 (非, 除了)"
   ]
  },
  {
   "cell_type": "code",
   "execution_count": 5,
   "metadata": {},
   "outputs": [
    {
     "data": {
      "text/plain": [
       "['a', 'b', 'c']"
      ]
     },
     "execution_count": 5,
     "metadata": {},
     "output_type": "execute_result"
    }
   ],
   "source": [
    "pattern = re.compile(r'[abc]')\n",
    "re.findall(pattern,input)"
   ]
  },
  {
   "cell_type": "code",
   "execution_count": 10,
   "metadata": {},
   "outputs": [
    {
     "data": {
      "text/plain": [
       "['a', 'b', 'c']"
      ]
     },
     "execution_count": 10,
     "metadata": {},
     "output_type": "execute_result"
    }
   ],
   "source": [
    "pattern = re.compile(r'[a-zA-Z]')\n",
    "re.findall(pattern,input)"
   ]
  },
  {
   "cell_type": "code",
   "execution_count": 11,
   "metadata": {},
   "outputs": [
    {
     "data": {
      "text/plain": [
       "['自',\n",
       " '然',\n",
       " '语',\n",
       " '言',\n",
       " '处',\n",
       " '理',\n",
       " '很',\n",
       " '重',\n",
       " '要',\n",
       " ' ',\n",
       " '。',\n",
       " ' ',\n",
       " '1',\n",
       " '2',\n",
       " '7',\n",
       " '8',\n",
       " '9']"
      ]
     },
     "execution_count": 11,
     "metadata": {},
     "output_type": "execute_result"
    }
   ],
   "source": [
    "pattern = re.compile(r'[^a-zA-Z]')\n",
    "re.findall(pattern,input)"
   ]
  }
 ],
 "metadata": {
  "kernelspec": {
   "display_name": "Python 3.9.12 ('base')",
   "language": "python",
   "name": "python3"
  },
  "language_info": {
   "codemirror_mode": {
    "name": "ipython",
    "version": 3
   },
   "file_extension": ".py",
   "mimetype": "text/x-python",
   "name": "python",
   "nbconvert_exporter": "python",
   "pygments_lexer": "ipython3",
   "version": "3.9.12"
  },
  "orig_nbformat": 4,
  "vscode": {
   "interpreter": {
    "hash": "e97e4ccf2f2017fe19623886582ba8d34dc0f85668fa692ecb30fa97945f713c"
   }
  }
 },
 "nbformat": 4,
 "nbformat_minor": 2
}
