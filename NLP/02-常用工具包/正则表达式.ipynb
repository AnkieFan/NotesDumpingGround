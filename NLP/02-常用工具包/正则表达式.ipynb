{
 "cells": [
  {
   "cell_type": "markdown",
   "metadata": {},
   "source": [
    "# 正则表达式\n",
    "\n",
    "+ `.` 匹配任意字符（除\\n换行）\n",
    "  + a.c -> abc\n",
    "+ `\\` 转义字符\n",
    "+ `[]` 字符集\n",
    "\n",
    "## Python正则表达式\n",
    "+ 制定好匹配的模式 pattern\n",
    "+ 选择相应的方法 match, search等\n",
    "+ 得到匹配结果 group"
   ]
  },
  {
   "cell_type": "code",
   "execution_count": 1,
   "metadata": {},
   "outputs": [],
   "source": [
    "import re"
   ]
  },
  {
   "cell_type": "code",
   "execution_count": 7,
   "metadata": {},
   "outputs": [],
   "source": [
    "input = '自然语言处理很重要 。 12abc789'"
   ]
  },
  {
   "cell_type": "code",
   "execution_count": 3,
   "metadata": {},
   "outputs": [],
   "source": [
    "pattern = re.compile(r'.')"
   ]
  },
  {
   "cell_type": "code",
   "execution_count": 4,
   "metadata": {},
   "outputs": [
    {
     "data": {
      "text/plain": [
       "['自',\n",
       " '然',\n",
       " '语',\n",
       " '言',\n",
       " '处',\n",
       " '理',\n",
       " '很',\n",
       " '重',\n",
       " '要',\n",
       " ' ',\n",
       " '。',\n",
       " ' ',\n",
       " '1',\n",
       " '2',\n",
       " 'a',\n",
       " 'b',\n",
       " 'c',\n",
       " '7',\n",
       " '8',\n",
       " '9']"
      ]
     },
     "execution_count": 4,
     "metadata": {},
     "output_type": "execute_result"
    }
   ],
   "source": [
    "re.findall(pattern,input)"
   ]
  },
  {
   "cell_type": "markdown",
   "metadata": {},
   "source": [
    "## 字符集合\n",
    "+ `[abc]` 指定包含字符abc\n",
    "+ `[a-zA-Z]` 指定所有英文字母的大小写\n",
    "+ `[^a-zA-Z]` 指定不匹配所有英文单词 (非, 除了)"
   ]
  },
  {
   "cell_type": "code",
   "execution_count": 5,
   "metadata": {},
   "outputs": [
    {
     "data": {
      "text/plain": [
       "['a', 'b', 'c']"
      ]
     },
     "execution_count": 5,
     "metadata": {},
     "output_type": "execute_result"
    }
   ],
   "source": [
    "pattern = re.compile(r'[abc]')\n",
    "re.findall(pattern,input)"
   ]
  },
  {
   "cell_type": "code",
   "execution_count": 10,
   "metadata": {},
   "outputs": [
    {
     "data": {
      "text/plain": [
       "['a', 'b', 'c']"
      ]
     },
     "execution_count": 10,
     "metadata": {},
     "output_type": "execute_result"
    }
   ],
   "source": [
    "pattern = re.compile(r'[a-zA-Z]')\n",
    "re.findall(pattern,input)"
   ]
  },
  {
   "cell_type": "code",
   "execution_count": 11,
   "metadata": {},
   "outputs": [
    {
     "data": {
      "text/plain": [
       "['自',\n",
       " '然',\n",
       " '语',\n",
       " '言',\n",
       " '处',\n",
       " '理',\n",
       " '很',\n",
       " '重',\n",
       " '要',\n",
       " ' ',\n",
       " '。',\n",
       " ' ',\n",
       " '1',\n",
       " '2',\n",
       " '7',\n",
       " '8',\n",
       " '9']"
      ]
     },
     "execution_count": 11,
     "metadata": {},
     "output_type": "execute_result"
    }
   ],
   "source": [
    "pattern = re.compile(r'[^a-zA-Z]')\n",
    "re.findall(pattern,input)"
   ]
  },
  {
   "cell_type": "markdown",
   "metadata": {},
   "source": [
    "## 或\n",
    "两个规则并列起来，以`|`连接，表示只要满足其中之一就可以匹配\n",
    "+ `[a-zA-Z]|[0-9]` 匹配数字和字母， 等价于 `[a-zA-Z0-9]`"
   ]
  },
  {
   "cell_type": "code",
   "execution_count": 13,
   "metadata": {},
   "outputs": [
    {
     "data": {
      "text/plain": [
       "['1', '2', 'a', 'b', 'c', '7', '8', '9']"
      ]
     },
     "execution_count": 13,
     "metadata": {},
     "output_type": "execute_result"
    }
   ],
   "source": [
    "pattern = re.compile(r'[a-zA-Z]|[0-9]')\n",
    "re.findall(pattern,input)"
   ]
  },
  {
   "cell_type": "markdown",
   "metadata": {},
   "source": [
    "## 预定字符集\n",
    "+ `\\d` 数字 `[0-9]`\n",
    "+ `\\D` 非数字 `[^\\d]`\n",
    "+ `\\s` 空白字符：`[<空格>\\t\\r\\n\\f\\v]`\n",
    "+ `\\S` 非空白字符\n",
    "+ `\\w` 单词字符 `[A-Za-z0-9_]`\n",
    "+ `\\W` 非单词字符"
   ]
  },
  {
   "cell_type": "code",
   "execution_count": 14,
   "metadata": {},
   "outputs": [
    {
     "data": {
      "text/plain": [
       "[' ', '。', ' ']"
      ]
     },
     "execution_count": 14,
     "metadata": {},
     "output_type": "execute_result"
    }
   ],
   "source": [
    "# \\W 匹配非字母和数字\n",
    "pattern = re.compile(r'\\W')\n",
    "re.findall(pattern,input)"
   ]
  },
  {
   "cell_type": "code",
   "execution_count": 15,
   "metadata": {},
   "outputs": [
    {
     "data": {
      "text/plain": [
       "[' ', ' ']"
      ]
     },
     "execution_count": 15,
     "metadata": {},
     "output_type": "execute_result"
    }
   ],
   "source": [
    "# \\s 匹配间隔符\n",
    "pattern = re.compile(r'\\s')\n",
    "re.findall(pattern,input)"
   ]
  },
  {
   "cell_type": "markdown",
   "metadata": {},
   "source": [
    "## 重复\n",
    "+ `*` 0或是多次匹配"
   ]
  },
  {
   "cell_type": "code",
   "execution_count": 16,
   "metadata": {},
   "outputs": [
    {
     "data": {
      "text/plain": [
       "['', '', '', '', '', '', '', '', '', '', '', '', '12', '', '', '', '789', '']"
      ]
     },
     "execution_count": 16,
     "metadata": {},
     "output_type": "execute_result"
    }
   ],
   "source": [
    "pattern = re.compile(r'\\d*')\n",
    "re.findall(pattern,input)"
   ]
  },
  {
   "cell_type": "markdown",
   "metadata": {},
   "source": [
    "+ `+` 1次或多次匹配"
   ]
  },
  {
   "cell_type": "code",
   "execution_count": 17,
   "metadata": {},
   "outputs": [
    {
     "data": {
      "text/plain": [
       "['12', '789']"
      ]
     },
     "execution_count": 17,
     "metadata": {},
     "output_type": "execute_result"
    }
   ],
   "source": [
    "pattern = re.compile(r'\\d+')\n",
    "re.findall(pattern,input)"
   ]
  },
  {
   "cell_type": "markdown",
   "metadata": {},
   "source": [
    "+ `?` 0 或 1次匹配"
   ]
  },
  {
   "cell_type": "code",
   "execution_count": 18,
   "metadata": {},
   "outputs": [
    {
     "data": {
      "text/plain": [
       "['',\n",
       " '',\n",
       " '',\n",
       " '',\n",
       " '',\n",
       " '',\n",
       " '',\n",
       " '',\n",
       " '',\n",
       " '',\n",
       " '',\n",
       " '',\n",
       " '1',\n",
       " '2',\n",
       " '',\n",
       " '',\n",
       " '',\n",
       " '7',\n",
       " '8',\n",
       " '9',\n",
       " '']"
      ]
     },
     "execution_count": 18,
     "metadata": {},
     "output_type": "execute_result"
    }
   ],
   "source": [
    "pattern = re.compile(r'\\d?')\n",
    "re.findall(pattern,input)"
   ]
  },
  {
   "cell_type": "markdown",
   "metadata": {},
   "source": [
    "## 精确匹配和最小匹配\n",
    "+ `{m}` 精确匹配m次"
   ]
  },
  {
   "cell_type": "code",
   "execution_count": 19,
   "metadata": {},
   "outputs": [
    {
     "data": {
      "text/plain": [
       "['789']"
      ]
     },
     "execution_count": 19,
     "metadata": {},
     "output_type": "execute_result"
    }
   ],
   "source": [
    "# 只匹配 789\n",
    "pattern = re.compile(r'\\d{3}')\n",
    "re.findall(pattern,input)"
   ]
  },
  {
   "cell_type": "markdown",
   "metadata": {},
   "source": [
    "+ `{m,n}` 匹配最少m次，最多n次 (n>m)"
   ]
  },
  {
   "cell_type": "code",
   "execution_count": 20,
   "metadata": {},
   "outputs": [
    {
     "data": {
      "text/plain": [
       "['12', '789']"
      ]
     },
     "execution_count": 20,
     "metadata": {},
     "output_type": "execute_result"
    }
   ],
   "source": [
    "pattern = re.compile(r'\\d{1,3}')\n",
    "re.findall(pattern,input)"
   ]
  },
  {
   "cell_type": "markdown",
   "metadata": {},
   "source": [
    "## match 与 search\n",
    "返回的不是简单的字符串列表，**而是MatchObject**\n",
    "如果匹配不成功，回返回一个 **NoneType**。 先判断是否匹配成功再执行操作。\n",
    "+ match 从字符串开头开始匹配，在开头位置没有匹配成功就失败\n",
    "+ search 会跳过开头 继续向后寻找"
   ]
  },
  {
   "cell_type": "code",
   "execution_count": 21,
   "metadata": {},
   "outputs": [],
   "source": [
    "input2 = '123自然语言处理'"
   ]
  },
  {
   "cell_type": "code",
   "execution_count": 25,
   "metadata": {},
   "outputs": [
    {
     "data": {
      "text/plain": [
       "'12'"
      ]
     },
     "execution_count": 25,
     "metadata": {},
     "output_type": "execute_result"
    }
   ],
   "source": [
    "pattern = re.compile(r'\\d{2}')\n",
    "m = re.match(pattern, input2)\n",
    "m.group()"
   ]
  },
  {
   "cell_type": "markdown",
   "metadata": {},
   "source": [
    "## 字符串替换和修改\n",
    "在目标字符串中规则查找匹配的字符串，替换成指定字符串。可以指定最多替换次数，否则将替换所有匹配的字符串。\n",
    "sub (pattern, replace, target, \\[,count])\n",
    "subn (pattern, replace, target, \\[,count])\n",
    "参数：正则规则，用于替换的指定字符串，目标字符串，最多替换次数\n",
    "`sub` 返回一个被替换的字符串\n",
    "`subn` 返回一个元组，第一个元素是被替换的字符串，第二个元素是一个数字，表明产生了多少次替换"
   ]
  },
  {
   "cell_type": "code",
   "execution_count": 26,
   "metadata": {},
   "outputs": [
    {
     "data": {
      "text/plain": [
       "'数字数字数字自然语言处理'"
      ]
     },
     "execution_count": 26,
     "metadata": {},
     "output_type": "execute_result"
    }
   ],
   "source": [
    "pattern = re.compile(r'\\d')\n",
    "re.sub(pattern, '数字', input2)"
   ]
  },
  {
   "cell_type": "code",
   "execution_count": 27,
   "metadata": {},
   "outputs": [
    {
     "data": {
      "text/plain": [
       "('数字数字数字自然语言处理', 3)"
      ]
     },
     "execution_count": 27,
     "metadata": {},
     "output_type": "execute_result"
    }
   ],
   "source": [
    "re.subn(pattern, '数字', input2)"
   ]
  },
  {
   "cell_type": "markdown",
   "metadata": {},
   "source": [
    "## split 切片函数\n",
    "使用正则规则在目标字符串中查找匹配的字符串，用它们作为分界，把字符串切片。\n",
    "split(pattern, target, [,maxsplit])\n",
    "参数：正则规则，目标字符串，最多切片字数\n",
    "返回：一个被切完的子字符串的列表"
   ]
  },
  {
   "cell_type": "code",
   "execution_count": 28,
   "metadata": {},
   "outputs": [
    {
     "data": {
      "text/plain": [
       "['自然语言处理', '机器学习', '深度学习']"
      ]
     },
     "execution_count": 28,
     "metadata": {},
     "output_type": "execute_result"
    }
   ],
   "source": [
    "input3 = '自然语言处理123机器学习456深度学习'\n",
    "pattern = re.compile(r'\\d+')\n",
    "re.split(pattern,input3)"
   ]
  },
  {
   "cell_type": "markdown",
   "metadata": {},
   "source": [
    "## '(?P<...>)' 命名组\n",
    "`...` 里面是这个组的名字"
   ]
  },
  {
   "cell_type": "code",
   "execution_count": 35,
   "metadata": {},
   "outputs": [
    {
     "data": {
      "text/plain": [
       "'123'"
      ]
     },
     "execution_count": 35,
     "metadata": {},
     "output_type": "execute_result"
    }
   ],
   "source": [
    "pattern = re.compile(r'(?P<OW>\\d+)(?P<YJ>\\D+)')\n",
    "m = re.search(pattern, input3)\n",
    "m.group('OW')"
   ]
  },
  {
   "cell_type": "code",
   "execution_count": 36,
   "metadata": {},
   "outputs": [
    {
     "data": {
      "text/plain": [
       "'机器学习'"
      ]
     },
     "execution_count": 36,
     "metadata": {},
     "output_type": "execute_result"
    }
   ],
   "source": [
    "m.group('YJ')"
   ]
  },
  {
   "cell_type": "markdown",
   "metadata": {},
   "source": [
    "## 模式案例"
   ]
  },
  {
   "cell_type": "code",
   "execution_count": 37,
   "metadata": {},
   "outputs": [
    {
     "name": "stdout",
     "output_type": "stream",
     "text": [
      "338-343-220\n"
     ]
    }
   ],
   "source": [
    "input4 = 'number 338-343-220'\n",
    "pattern = re.compile(r'(\\d\\d\\d-\\d\\d\\d-\\d\\d\\d)')\n",
    "m = re.search(pattern, input4)\n",
    "print(m.group())"
   ]
  }
 ],
 "metadata": {
  "kernelspec": {
   "display_name": "Python 3.9.12 ('base')",
   "language": "python",
   "name": "python3"
  },
  "language_info": {
   "codemirror_mode": {
    "name": "ipython",
    "version": 3
   },
   "file_extension": ".py",
   "mimetype": "text/x-python",
   "name": "python",
   "nbconvert_exporter": "python",
   "pygments_lexer": "ipython3",
   "version": "3.9.12"
  },
  "orig_nbformat": 4,
  "vscode": {
   "interpreter": {
    "hash": "e97e4ccf2f2017fe19623886582ba8d34dc0f85668fa692ecb30fa97945f713c"
   }
  }
 },
 "nbformat": 4,
 "nbformat_minor": 2
}
