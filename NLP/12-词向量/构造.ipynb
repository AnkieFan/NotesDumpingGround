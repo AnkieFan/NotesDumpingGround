{
 "cells": [
  {
   "cell_type": "code",
   "execution_count": 1,
   "metadata": {},
   "outputs": [],
   "source": [
    "from gensim.models import word2vec\n",
    "from gensim import downloader\n",
    "import logging\n",
    "\n",
    "logging.basicConfig(format = '%(asctime)s : %(levelname)s : %(message)s', level = logging.INFO)"
   ]
  },
  {
   "cell_type": "code",
   "execution_count": 2,
   "metadata": {},
   "outputs": [],
   "source": [
    "raw_sentences = [\"the quick brown fox jumps over the lazy dogs\",\"yoyoyo you go home now to sleep\"]"
   ]
  },
  {
   "cell_type": "code",
   "execution_count": 3,
   "metadata": {},
   "outputs": [
    {
     "data": {
      "text/plain": [
       "[['the', 'quick', 'brown', 'fox', 'jumps', 'over', 'the', 'lazy', 'dogs'],\n",
       " ['yoyoyo', 'you', 'go', 'home', 'now', 'to', 'sleep']]"
      ]
     },
     "execution_count": 3,
     "metadata": {},
     "output_type": "execute_result"
    }
   ],
   "source": [
    "sentences = [s.split() for s in raw_sentences]\n",
    "sentences"
   ]
  },
  {
   "cell_type": "code",
   "execution_count": 4,
   "metadata": {},
   "outputs": [
    {
     "name": "stderr",
     "output_type": "stream",
     "text": [
      "2023-01-18 02:23:41,197 : INFO : collecting all words and their counts\n",
      "2023-01-18 02:23:41,197 : INFO : PROGRESS: at sentence #0, processed 0 words, keeping 0 word types\n",
      "2023-01-18 02:23:41,198 : INFO : collected 15 word types from a corpus of 16 raw words and 2 sentences\n",
      "2023-01-18 02:23:41,198 : INFO : Creating a fresh vocabulary\n",
      "2023-01-18 02:23:41,198 : INFO : Word2Vec lifecycle event {'msg': 'effective_min_count=1 retains 15 unique words (100.0%% of original 15, drops 0)', 'datetime': '2023-01-18T02:23:41.198660', 'gensim': '4.1.2', 'python': '3.9.13 (main, Oct 13 2022, 21:23:06) [MSC v.1916 64 bit (AMD64)]', 'platform': 'Windows-10-10.0.22000-SP0', 'event': 'prepare_vocab'}\n",
      "2023-01-18 02:23:41,199 : INFO : Word2Vec lifecycle event {'msg': 'effective_min_count=1 leaves 16 word corpus (100.0%% of original 16, drops 0)', 'datetime': '2023-01-18T02:23:41.199656', 'gensim': '4.1.2', 'python': '3.9.13 (main, Oct 13 2022, 21:23:06) [MSC v.1916 64 bit (AMD64)]', 'platform': 'Windows-10-10.0.22000-SP0', 'event': 'prepare_vocab'}\n",
      "2023-01-18 02:23:41,199 : INFO : deleting the raw counts dictionary of 15 items\n",
      "2023-01-18 02:23:41,199 : INFO : sample=0.001 downsamples 15 most-common words\n",
      "2023-01-18 02:23:41,200 : INFO : Word2Vec lifecycle event {'msg': 'downsampling leaves estimated 2.1897609278942753 word corpus (13.7%% of prior 16)', 'datetime': '2023-01-18T02:23:41.200653', 'gensim': '4.1.2', 'python': '3.9.13 (main, Oct 13 2022, 21:23:06) [MSC v.1916 64 bit (AMD64)]', 'platform': 'Windows-10-10.0.22000-SP0', 'event': 'prepare_vocab'}\n",
      "2023-01-18 02:23:41,201 : INFO : estimated required memory for 15 words and 100 dimensions: 19500 bytes\n",
      "2023-01-18 02:23:41,201 : INFO : resetting layer weights\n",
      "2023-01-18 02:23:41,201 : INFO : Word2Vec lifecycle event {'update': False, 'trim_rule': 'None', 'datetime': '2023-01-18T02:23:41.201451', 'gensim': '4.1.2', 'python': '3.9.13 (main, Oct 13 2022, 21:23:06) [MSC v.1916 64 bit (AMD64)]', 'platform': 'Windows-10-10.0.22000-SP0', 'event': 'build_vocab'}\n",
      "2023-01-18 02:23:41,201 : INFO : Word2Vec lifecycle event {'msg': 'training model with 3 workers on 15 vocabulary and 100 features, using sg=0 hs=0 sample=0.001 negative=5 window=5 shrink_windows=True', 'datetime': '2023-01-18T02:23:41.201451', 'gensim': '4.1.2', 'python': '3.9.13 (main, Oct 13 2022, 21:23:06) [MSC v.1916 64 bit (AMD64)]', 'platform': 'Windows-10-10.0.22000-SP0', 'event': 'train'}\n",
      "2023-01-18 02:23:41,203 : INFO : worker thread finished; awaiting finish of 2 more threads\n",
      "2023-01-18 02:23:41,204 : INFO : worker thread finished; awaiting finish of 1 more threads\n",
      "2023-01-18 02:23:41,204 : INFO : worker thread finished; awaiting finish of 0 more threads\n",
      "2023-01-18 02:23:41,205 : INFO : EPOCH - 1 : training on 16 raw words (2 effective words) took 0.0s, 1372 effective words/s\n",
      "2023-01-18 02:23:41,206 : INFO : worker thread finished; awaiting finish of 2 more threads\n",
      "2023-01-18 02:23:41,207 : INFO : worker thread finished; awaiting finish of 1 more threads\n",
      "2023-01-18 02:23:41,207 : INFO : worker thread finished; awaiting finish of 0 more threads\n",
      "2023-01-18 02:23:41,207 : INFO : EPOCH - 2 : training on 16 raw words (3 effective words) took 0.0s, 3166 effective words/s\n",
      "2023-01-18 02:23:41,209 : INFO : worker thread finished; awaiting finish of 2 more threads\n",
      "2023-01-18 02:23:41,209 : INFO : worker thread finished; awaiting finish of 1 more threads\n",
      "2023-01-18 02:23:41,209 : INFO : worker thread finished; awaiting finish of 0 more threads\n",
      "2023-01-18 02:23:41,210 : INFO : EPOCH - 3 : training on 16 raw words (1 effective words) took 0.0s, 672 effective words/s\n",
      "2023-01-18 02:23:41,211 : INFO : worker thread finished; awaiting finish of 2 more threads\n",
      "2023-01-18 02:23:41,212 : INFO : worker thread finished; awaiting finish of 1 more threads\n",
      "2023-01-18 02:23:41,212 : INFO : worker thread finished; awaiting finish of 0 more threads\n",
      "2023-01-18 02:23:41,212 : INFO : EPOCH - 4 : training on 16 raw words (2 effective words) took 0.0s, 2001 effective words/s\n",
      "2023-01-18 02:23:41,214 : INFO : worker thread finished; awaiting finish of 2 more threads\n",
      "2023-01-18 02:23:41,214 : INFO : worker thread finished; awaiting finish of 1 more threads\n",
      "2023-01-18 02:23:41,214 : INFO : worker thread finished; awaiting finish of 0 more threads\n",
      "2023-01-18 02:23:41,215 : INFO : EPOCH - 5 : training on 16 raw words (2 effective words) took 0.0s, 1822 effective words/s\n",
      "2023-01-18 02:23:41,215 : INFO : Word2Vec lifecycle event {'msg': 'training on 80 raw words (10 effective words) took 0.0s, 731 effective words/s', 'datetime': '2023-01-18T02:23:41.215884', 'gensim': '4.1.2', 'python': '3.9.13 (main, Oct 13 2022, 21:23:06) [MSC v.1916 64 bit (AMD64)]', 'platform': 'Windows-10-10.0.22000-SP0', 'event': 'train'}\n",
      "2023-01-18 02:23:41,215 : INFO : Word2Vec lifecycle event {'params': 'Word2Vec(vocab=15, vector_size=100, alpha=0.025)', 'datetime': '2023-01-18T02:23:41.215884', 'gensim': '4.1.2', 'python': '3.9.13 (main, Oct 13 2022, 21:23:06) [MSC v.1916 64 bit (AMD64)]', 'platform': 'Windows-10-10.0.22000-SP0', 'event': 'created'}\n"
     ]
    }
   ],
   "source": [
    "model = word2vec.Word2Vec(sentences,min_count=1)"
   ]
  },
  {
   "attachments": {},
   "cell_type": "markdown",
   "metadata": {},
   "source": [
    "min_count:过滤出现太少次数小于min_count的词语\n",
    "size: 神经网络层数，默认是100，更多的层数对更大的样本更好。"
   ]
  },
  {
   "cell_type": "code",
   "execution_count": 5,
   "metadata": {},
   "outputs": [
    {
     "data": {
      "text/plain": [
       "0.009126566"
      ]
     },
     "execution_count": 5,
     "metadata": {},
     "output_type": "execute_result"
    }
   ],
   "source": [
    "model.wv.similarity('dogs','you')"
   ]
  },
  {
   "cell_type": "code",
   "execution_count": 6,
   "metadata": {},
   "outputs": [
    {
     "name": "stderr",
     "output_type": "stream",
     "text": [
      "2023-01-18 02:23:41,326 : INFO : loading projection weights from C:\\Users\\AnkieF/gensim-data\\word2vec-google-news-300\\word2vec-google-news-300.gz\n",
      "2023-01-18 02:24:07,153 : INFO : KeyedVectors lifecycle event {'msg': 'loaded (3000000, 300) matrix of type float32 from C:\\\\Users\\\\AnkieF/gensim-data\\\\word2vec-google-news-300\\\\word2vec-google-news-300.gz', 'binary': True, 'encoding': 'utf8', 'datetime': '2023-01-18T02:24:07.153456', 'gensim': '4.1.2', 'python': '3.9.13 (main, Oct 13 2022, 21:23:06) [MSC v.1916 64 bit (AMD64)]', 'platform': 'Windows-10-10.0.22000-SP0', 'event': 'load_word2vec_format'}\n"
     ]
    }
   ],
   "source": [
    "w2v_vectors = downloader.load('word2vec-google-news-300')"
   ]
  },
  {
   "cell_type": "code",
   "execution_count": 7,
   "metadata": {},
   "outputs": [
    {
     "data": {
      "text/plain": [
       "0.48998526"
      ]
     },
     "execution_count": 7,
     "metadata": {},
     "output_type": "execute_result"
    }
   ],
   "source": [
    "w2v_vectors.similarity('indomethacin','etoricoxib')"
   ]
  },
  {
   "cell_type": "code",
   "execution_count": 8,
   "metadata": {},
   "outputs": [
    {
     "name": "stderr",
     "output_type": "stream",
     "text": [
      "2023-01-18 02:24:07,217 : INFO : Word2Vec lifecycle event {'params': 'Word2Vec(vocab=0, vector_size=300, alpha=0.025)', 'datetime': '2023-01-18T02:24:07.217479', 'gensim': '4.1.2', 'python': '3.9.13 (main, Oct 13 2022, 21:23:06) [MSC v.1916 64 bit (AMD64)]', 'platform': 'Windows-10-10.0.22000-SP0', 'event': 'created'}\n",
      "2023-01-18 02:24:07,217 : INFO : collecting all words and their counts\n",
      "2023-01-18 02:24:07,217 : INFO : PROGRESS: at sentence #0, processed 0 words, keeping 0 word types\n",
      "2023-01-18 02:24:07,218 : INFO : collected 10 word types from a corpus of 10 raw words and 3 sentences\n",
      "2023-01-18 02:24:07,218 : INFO : Creating a fresh vocabulary\n",
      "2023-01-18 02:24:07,219 : INFO : Word2Vec lifecycle event {'msg': 'effective_min_count=1 retains 10 unique words (100.0%% of original 10, drops 0)', 'datetime': '2023-01-18T02:24:07.219473', 'gensim': '4.1.2', 'python': '3.9.13 (main, Oct 13 2022, 21:23:06) [MSC v.1916 64 bit (AMD64)]', 'platform': 'Windows-10-10.0.22000-SP0', 'event': 'prepare_vocab'}\n",
      "2023-01-18 02:24:07,219 : INFO : Word2Vec lifecycle event {'msg': 'effective_min_count=1 leaves 10 word corpus (100.0%% of original 10, drops 0)', 'datetime': '2023-01-18T02:24:07.219473', 'gensim': '4.1.2', 'python': '3.9.13 (main, Oct 13 2022, 21:23:06) [MSC v.1916 64 bit (AMD64)]', 'platform': 'Windows-10-10.0.22000-SP0', 'event': 'prepare_vocab'}\n",
      "2023-01-18 02:24:07,219 : INFO : deleting the raw counts dictionary of 10 items\n",
      "2023-01-18 02:24:07,220 : INFO : sample=0.001 downsamples 10 most-common words\n",
      "2023-01-18 02:24:07,220 : INFO : Word2Vec lifecycle event {'msg': 'downsampling leaves estimated 1.1 word corpus (11.0%% of prior 10)', 'datetime': '2023-01-18T02:24:07.220470', 'gensim': '4.1.2', 'python': '3.9.13 (main, Oct 13 2022, 21:23:06) [MSC v.1916 64 bit (AMD64)]', 'platform': 'Windows-10-10.0.22000-SP0', 'event': 'prepare_vocab'}\n",
      "2023-01-18 02:24:07,220 : INFO : estimated required memory for 10 words and 300 dimensions: 29000 bytes\n",
      "2023-01-18 02:24:07,220 : INFO : resetting layer weights\n",
      "2023-01-18 02:24:07,222 : INFO : Word2Vec lifecycle event {'update': False, 'trim_rule': 'None', 'datetime': '2023-01-18T02:24:07.222463', 'gensim': '4.1.2', 'python': '3.9.13 (main, Oct 13 2022, 21:23:06) [MSC v.1916 64 bit (AMD64)]', 'platform': 'Windows-10-10.0.22000-SP0', 'event': 'build_vocab'}\n",
      "2023-01-18 02:24:07,222 : INFO : loading projection weights from GoogleNews-vectors-negative300.bin\n",
      "2023-01-18 02:24:18,947 : INFO : KeyedVectors lifecycle event {'msg': 'merged 9 vectors into (10, 300) matrix from GoogleNews-vectors-negative300.bin', 'datetime': '2023-01-18T02:24:18.947707', 'gensim': '4.1.2', 'python': '3.9.13 (main, Oct 13 2022, 21:23:06) [MSC v.1916 64 bit (AMD64)]', 'platform': 'Windows-10-10.0.22000-SP0', 'event': 'intersect_word2vec_format'}\n",
      "2023-01-18 02:24:18,948 : INFO : Word2Vec lifecycle event {'msg': 'training model with 2 workers on 10 vocabulary and 300 features, using sg=0 hs=0 sample=0.001 negative=5 window=5 shrink_windows=True', 'datetime': '2023-01-18T02:24:18.948703', 'gensim': '4.1.2', 'python': '3.9.13 (main, Oct 13 2022, 21:23:06) [MSC v.1916 64 bit (AMD64)]', 'platform': 'Windows-10-10.0.22000-SP0', 'event': 'train'}\n",
      "2023-01-18 02:24:18,950 : INFO : worker thread finished; awaiting finish of 1 more threads\n",
      "2023-01-18 02:24:18,950 : INFO : worker thread finished; awaiting finish of 0 more threads\n",
      "2023-01-18 02:24:18,951 : INFO : EPOCH - 1 : training on 10 raw words (1 effective words) took 0.0s, 1042 effective words/s\n",
      "2023-01-18 02:24:18,952 : INFO : worker thread finished; awaiting finish of 1 more threads\n",
      "2023-01-18 02:24:18,952 : INFO : worker thread finished; awaiting finish of 0 more threads\n",
      "2023-01-18 02:24:18,953 : INFO : EPOCH - 2 : training on 10 raw words (0 effective words) took 0.0s, 0 effective words/s\n",
      "2023-01-18 02:24:18,954 : INFO : worker thread finished; awaiting finish of 1 more threads\n",
      "2023-01-18 02:24:18,954 : INFO : worker thread finished; awaiting finish of 0 more threads\n",
      "2023-01-18 02:24:18,954 : INFO : EPOCH - 3 : training on 10 raw words (2 effective words) took 0.0s, 2170 effective words/s\n",
      "2023-01-18 02:24:18,955 : INFO : worker thread finished; awaiting finish of 1 more threads\n",
      "2023-01-18 02:24:18,955 : INFO : worker thread finished; awaiting finish of 0 more threads\n",
      "2023-01-18 02:24:18,956 : INFO : EPOCH - 4 : training on 10 raw words (0 effective words) took 0.0s, 0 effective words/s\n",
      "2023-01-18 02:24:18,957 : INFO : worker thread finished; awaiting finish of 1 more threads\n",
      "2023-01-18 02:24:18,957 : INFO : worker thread finished; awaiting finish of 0 more threads\n",
      "2023-01-18 02:24:18,958 : INFO : EPOCH - 5 : training on 10 raw words (1 effective words) took 0.0s, 1070 effective words/s\n",
      "2023-01-18 02:24:18,958 : INFO : Word2Vec lifecycle event {'msg': 'training on 50 raw words (4 effective words) took 0.0s, 427 effective words/s', 'datetime': '2023-01-18T02:24:18.958775', 'gensim': '4.1.2', 'python': '3.9.13 (main, Oct 13 2022, 21:23:06) [MSC v.1916 64 bit (AMD64)]', 'platform': 'Windows-10-10.0.22000-SP0', 'event': 'train'}\n"
     ]
    },
    {
     "data": {
      "text/plain": [
       "(4, 50)"
      ]
     },
     "execution_count": 8,
     "metadata": {},
     "output_type": "execute_result"
    }
   ],
   "source": [
    "from gensim.models import Word2Vec\n",
    "import numpy as np\n",
    " \n",
    "sentences = [[\"bad\",\"robots\"],[\"good\",\"human\"],['yes', 'this', 'is', 'the', 'word2vec', 'model']]\n",
    " \n",
    "# size option needs to be set to 300 to be the same as Google's pre-trained model\n",
    " \n",
    "word2vec_model = Word2Vec(window=5,min_count = 1, workers = 2,vector_size = 300) \n",
    "word2vec_model.build_vocab(sentences)\n",
    "\n",
    "# assign the vectors to the vocabs that are in Google's pre-trained model and your sentences defined above.\n",
    "# lockf needs to be set to 1.0 to allow continued training.\n",
    "word2vec_model.wv.vectors_lockf = np.ones(len(model.wv))\n",
    "word2vec_model.wv.intersect_word2vec_format('GoogleNews-vectors-negative300.bin', lockf=1.0, binary=True)\n",
    " \n",
    "# continue training with you own data\n",
    "word2vec_model.train(sentences, total_examples=3, epochs = 5)"
   ]
  },
  {
   "cell_type": "code",
   "execution_count": 9,
   "metadata": {},
   "outputs": [
    {
     "data": {
      "text/plain": [
       "array([ 0.16308594,  0.07324219, -0.07177734,  0.28125   , -0.2265625 ,\n",
       "       -0.05859375,  0.10742188, -0.0050354 , -0.04638672, -0.14160156,\n",
       "        0.0291748 , -0.09716797,  0.18554688, -0.07470703, -0.00262451,\n",
       "        0.04736328, -0.140625  ,  0.14550781,  0.06640625, -0.09375   ,\n",
       "        0.11035156, -0.06542969,  0.19628906,  0.08251953, -0.16601562,\n",
       "        0.0098877 , -0.06738281, -0.15332031, -0.03710938, -0.18066406,\n",
       "       -0.30664062, -0.20019531, -0.18945312,  0.05029297,  0.12792969,\n",
       "       -0.05688477, -0.05004883,  0.26953125,  0.12792969,  0.10058594,\n",
       "        0.09521484, -0.00500488,  0.13378906,  0.44726562, -0.04223633,\n",
       "       -0.07666016,  0.06079102,  0.06445312,  0.15917969, -0.00561523,\n",
       "       -0.23242188,  0.14257812, -0.07470703, -0.06689453, -0.14746094,\n",
       "       -0.12597656,  0.44726562, -0.14257812,  0.14257812,  0.02929688,\n",
       "       -0.01879883, -0.02380371, -0.01342773,  0.04736328, -0.3515625 ,\n",
       "       -0.13574219, -0.18359375,  0.30078125, -0.24511719,  0.08105469,\n",
       "       -0.21582031,  0.01782227, -0.21679688, -0.01074219,  0.00823975,\n",
       "       -0.28320312, -0.11230469, -0.21484375, -0.12207031, -0.31054688,\n",
       "        0.04736328,  0.07421875, -0.20605469,  0.04956055,  0.06445312,\n",
       "       -0.25390625,  0.00546265,  0.16894531,  0.13671875,  0.265625  ,\n",
       "        0.10644531, -0.12695312, -0.44921875, -0.12402344,  0.24511719,\n",
       "        0.17871094,  0.19042969, -0.33398438,  0.17285156, -0.15234375,\n",
       "        0.38085938, -0.19824219, -0.00976562, -0.10888672,  0.32617188,\n",
       "        0.07324219, -0.16601562, -0.22460938,  0.18457031,  0.328125  ,\n",
       "        0.09179688, -0.05151367,  0.22558594,  0.21386719,  0.09326172,\n",
       "        0.05151367, -0.16796875, -0.2109375 ,  0.13671875, -0.22558594,\n",
       "       -0.265625  , -0.21875   , -0.0625    , -0.12060547, -0.11962891,\n",
       "        0.09765625, -0.34179688, -0.14160156,  0.21386719,  0.04077148,\n",
       "        0.00198364, -0.23339844, -0.4375    ,  0.1171875 , -0.04516602,\n",
       "        0.23925781,  0.29296875, -0.24023438, -0.10400391, -0.1796875 ,\n",
       "        0.09179688, -0.19433594,  0.21972656,  0.34960938, -0.05419922,\n",
       "        0.11816406, -0.03466797, -0.11572266,  0.12402344, -0.05322266,\n",
       "       -0.16796875, -0.25390625, -0.18554688, -0.00720215, -0.26367188,\n",
       "        0.33789062, -0.33007812, -0.06298828, -0.14160156, -0.18652344,\n",
       "        0.26367188,  0.08740234, -0.19433594, -0.16601562,  0.01086426,\n",
       "       -0.24414062,  0.43359375,  0.0612793 , -0.22070312,  0.17382812,\n",
       "        0.04492188, -0.10595703, -0.03735352,  0.25195312, -0.15722656,\n",
       "       -0.34179688, -0.12451172,  0.02624512, -0.41210938,  0.16308594,\n",
       "       -0.00180817, -0.33007812, -0.13574219, -0.07568359,  0.03198242,\n",
       "        0.00744629,  0.05639648,  0.02661133, -0.12792969, -0.06079102,\n",
       "       -0.3125    ,  0.38085938, -0.08203125,  0.05639648, -0.17675781,\n",
       "        0.01635742,  0.13378906, -0.34375   , -0.3359375 , -0.06542969,\n",
       "        0.0032196 , -0.11279297, -0.16308594,  0.24023438, -0.421875  ,\n",
       "       -0.09765625,  0.06884766, -0.38085938, -0.34570312, -0.17285156,\n",
       "       -0.11279297, -0.16992188, -0.12353516, -0.05419922, -0.06347656,\n",
       "       -0.11230469,  0.05004883,  0.06982422, -0.35742188,  0.17285156,\n",
       "       -0.07519531, -0.04272461,  0.0300293 , -0.41210938, -0.27539062,\n",
       "       -0.16503906, -0.32617188,  0.09863281,  0.06103516, -0.35351562,\n",
       "        0.12304688, -0.30273438,  0.18164062,  0.06738281,  0.2890625 ,\n",
       "       -0.01342773, -0.31054688, -0.11621094,  0.359375  , -0.00952148,\n",
       "        0.33789062,  0.04174805, -0.390625  ,  0.05249023, -0.28710938,\n",
       "        0.13085938, -0.1171875 ,  0.1875    ,  0.02099609, -0.46875   ,\n",
       "       -0.42773438, -0.34960938,  0.34375   ,  0.15234375, -0.19726562,\n",
       "       -0.24414062,  0.23242188, -0.28710938, -0.10351562,  0.04760742,\n",
       "        0.10205078, -0.29296875, -0.12304688,  0.07324219, -0.02783203,\n",
       "       -0.03564453, -0.12255859, -0.11865234,  0.14648438,  0.44726562,\n",
       "        0.00561523,  0.13574219,  0.13769531,  0.15136719,  0.25976562,\n",
       "       -0.33984375, -0.28710938,  0.0534668 ,  0.328125  ,  0.27148438,\n",
       "       -0.02392578,  0.16015625,  0.01293945,  0.18261719,  0.11328125,\n",
       "       -0.08691406,  0.07128906, -0.25195312,  0.22167969,  0.30859375,\n",
       "       -0.65234375,  0.21289062, -0.47460938, -0.265625  , -0.18652344,\n",
       "       -0.27734375,  0.01708984,  0.02758789, -0.1953125 ,  0.03344727],\n",
       "      dtype=float32)"
      ]
     },
     "execution_count": 9,
     "metadata": {},
     "output_type": "execute_result"
    }
   ],
   "source": [
    "w2v_vectors['robots']"
   ]
  },
  {
   "cell_type": "code",
   "execution_count": 10,
   "metadata": {},
   "outputs": [
    {
     "data": {
      "text/plain": [
       "0.26561615"
      ]
     },
     "execution_count": 10,
     "metadata": {},
     "output_type": "execute_result"
    }
   ],
   "source": [
    "word2vec_model.wv.similarity('robots','human')"
   ]
  },
  {
   "cell_type": "code",
   "execution_count": 11,
   "metadata": {},
   "outputs": [
    {
     "name": "stderr",
     "output_type": "stream",
     "text": [
      "2023-01-18 02:24:19,137 : INFO : Word2Vec lifecycle event {'params': 'Word2Vec(vocab=0, vector_size=300, alpha=0.025)', 'datetime': '2023-01-18T02:24:19.137179', 'gensim': '4.1.2', 'python': '3.9.13 (main, Oct 13 2022, 21:23:06) [MSC v.1916 64 bit (AMD64)]', 'platform': 'Windows-10-10.0.22000-SP0', 'event': 'created'}\n",
      "2023-01-18 02:24:19,138 : INFO : collecting all words and their counts\n",
      "2023-01-18 02:24:19,138 : INFO : PROGRESS: at sentence #0, processed 0 words, keeping 0 word types\n",
      "2023-01-18 02:24:19,138 : INFO : collected 10 word types from a corpus of 10 raw words and 3 sentences\n",
      "2023-01-18 02:24:19,139 : INFO : Creating a fresh vocabulary\n",
      "2023-01-18 02:24:19,139 : INFO : Word2Vec lifecycle event {'msg': 'effective_min_count=1 retains 10 unique words (100.0%% of original 10, drops 0)', 'datetime': '2023-01-18T02:24:19.139173', 'gensim': '4.1.2', 'python': '3.9.13 (main, Oct 13 2022, 21:23:06) [MSC v.1916 64 bit (AMD64)]', 'platform': 'Windows-10-10.0.22000-SP0', 'event': 'prepare_vocab'}\n",
      "2023-01-18 02:24:19,139 : INFO : Word2Vec lifecycle event {'msg': 'effective_min_count=1 leaves 10 word corpus (100.0%% of original 10, drops 0)', 'datetime': '2023-01-18T02:24:19.139173', 'gensim': '4.1.2', 'python': '3.9.13 (main, Oct 13 2022, 21:23:06) [MSC v.1916 64 bit (AMD64)]', 'platform': 'Windows-10-10.0.22000-SP0', 'event': 'prepare_vocab'}\n",
      "2023-01-18 02:24:19,140 : INFO : deleting the raw counts dictionary of 10 items\n",
      "2023-01-18 02:24:19,140 : INFO : sample=0.001 downsamples 10 most-common words\n",
      "2023-01-18 02:24:19,140 : INFO : Word2Vec lifecycle event {'msg': 'downsampling leaves estimated 1.1 word corpus (11.0%% of prior 10)', 'datetime': '2023-01-18T02:24:19.140861', 'gensim': '4.1.2', 'python': '3.9.13 (main, Oct 13 2022, 21:23:06) [MSC v.1916 64 bit (AMD64)]', 'platform': 'Windows-10-10.0.22000-SP0', 'event': 'prepare_vocab'}\n",
      "2023-01-18 02:24:19,140 : INFO : estimated required memory for 10 words and 300 dimensions: 29000 bytes\n",
      "2023-01-18 02:24:19,140 : INFO : resetting layer weights\n",
      "2023-01-18 02:24:19,141 : INFO : Word2Vec lifecycle event {'update': False, 'trim_rule': 'None', 'datetime': '2023-01-18T02:24:19.141881', 'gensim': '4.1.2', 'python': '3.9.13 (main, Oct 13 2022, 21:23:06) [MSC v.1916 64 bit (AMD64)]', 'platform': 'Windows-10-10.0.22000-SP0', 'event': 'build_vocab'}\n"
     ]
    },
    {
     "data": {
      "text/plain": [
       "0.022898583"
      ]
     },
     "execution_count": 11,
     "metadata": {},
     "output_type": "execute_result"
    }
   ],
   "source": [
    "old_sentences = [[\"bad\",\"robots\"],[\"good\",\"human\"],['yes', 'this', 'is', 'the', 'word2vec', 'model']]\n",
    " \n",
    "# size option needs to be set to 300 to be the same as Google's pre-trained model\n",
    " \n",
    "old_model = Word2Vec(window=5,min_count = 1, workers = 2,vector_size = 300)\n",
    "old_model.build_vocab(old_sentences)\n",
    "old_model.wv['robots']\n",
    "old_model.wv.similarity('robots','human')"
   ]
  },
  {
   "cell_type": "code",
   "execution_count": 12,
   "metadata": {},
   "outputs": [
    {
     "name": "stderr",
     "output_type": "stream",
     "text": [
      "2023-01-18 02:24:19,165 : INFO : loading projection weights from GoogleNews-vectors-negative300.bin\n",
      "2023-01-18 02:24:30,448 : INFO : KeyedVectors lifecycle event {'msg': 'merged 9 vectors into (10, 300) matrix from GoogleNews-vectors-negative300.bin', 'datetime': '2023-01-18T02:24:30.448671', 'gensim': '4.1.2', 'python': '3.9.13 (main, Oct 13 2022, 21:23:06) [MSC v.1916 64 bit (AMD64)]', 'platform': 'Windows-10-10.0.22000-SP0', 'event': 'intersect_word2vec_format'}\n",
      "2023-01-18 02:24:30,449 : INFO : Word2Vec lifecycle event {'msg': 'training model with 2 workers on 10 vocabulary and 300 features, using sg=0 hs=0 sample=0.001 negative=5 window=5 shrink_windows=True', 'datetime': '2023-01-18T02:24:30.449668', 'gensim': '4.1.2', 'python': '3.9.13 (main, Oct 13 2022, 21:23:06) [MSC v.1916 64 bit (AMD64)]', 'platform': 'Windows-10-10.0.22000-SP0', 'event': 'train'}\n",
      "2023-01-18 02:24:30,451 : INFO : worker thread finished; awaiting finish of 1 more threads\n",
      "2023-01-18 02:24:30,451 : INFO : worker thread finished; awaiting finish of 0 more threads\n",
      "2023-01-18 02:24:30,451 : INFO : EPOCH - 1 : training on 10 raw words (1 effective words) took 0.0s, 1272 effective words/s\n",
      "2023-01-18 02:24:30,453 : INFO : worker thread finished; awaiting finish of 1 more threads\n",
      "2023-01-18 02:24:30,453 : INFO : worker thread finished; awaiting finish of 0 more threads\n",
      "2023-01-18 02:24:30,453 : INFO : EPOCH - 2 : training on 10 raw words (0 effective words) took 0.0s, 0 effective words/s\n",
      "2023-01-18 02:24:30,454 : INFO : worker thread finished; awaiting finish of 1 more threads\n",
      "2023-01-18 02:24:30,455 : INFO : worker thread finished; awaiting finish of 0 more threads\n",
      "2023-01-18 02:24:30,455 : INFO : EPOCH - 3 : training on 10 raw words (2 effective words) took 0.0s, 2552 effective words/s\n",
      "2023-01-18 02:24:30,456 : INFO : worker thread finished; awaiting finish of 1 more threads\n",
      "2023-01-18 02:24:30,457 : INFO : worker thread finished; awaiting finish of 0 more threads\n",
      "2023-01-18 02:24:30,457 : INFO : EPOCH - 4 : training on 10 raw words (0 effective words) took 0.0s, 0 effective words/s\n",
      "2023-01-18 02:24:30,458 : INFO : worker thread finished; awaiting finish of 1 more threads\n",
      "2023-01-18 02:24:30,458 : INFO : worker thread finished; awaiting finish of 0 more threads\n",
      "2023-01-18 02:24:30,459 : INFO : EPOCH - 5 : training on 10 raw words (1 effective words) took 0.0s, 1363 effective words/s\n",
      "2023-01-18 02:24:30,459 : INFO : Word2Vec lifecycle event {'msg': 'training on 50 raw words (4 effective words) took 0.0s, 421 effective words/s', 'datetime': '2023-01-18T02:24:30.459354', 'gensim': '4.1.2', 'python': '3.9.13 (main, Oct 13 2022, 21:23:06) [MSC v.1916 64 bit (AMD64)]', 'platform': 'Windows-10-10.0.22000-SP0', 'event': 'train'}\n"
     ]
    },
    {
     "data": {
      "text/plain": [
       "0.26561615"
      ]
     },
     "execution_count": 12,
     "metadata": {},
     "output_type": "execute_result"
    }
   ],
   "source": [
    "old_model.wv.vectors_lockf = np.ones(len(model.wv))\n",
    "old_model.wv.intersect_word2vec_format('GoogleNews-vectors-negative300.bin', lockf=0.0, binary=True)\n",
    "# continue training with you own data\n",
    "old_model.train(sentences, total_examples=3, epochs = 5)\n",
    "old_model.wv.similarity('robots','human')"
   ]
  }
 ],
 "metadata": {
  "kernelspec": {
   "display_name": "base",
   "language": "python",
   "name": "python3"
  },
  "language_info": {
   "codemirror_mode": {
    "name": "ipython",
    "version": 3
   },
   "file_extension": ".py",
   "mimetype": "text/x-python",
   "name": "python",
   "nbconvert_exporter": "python",
   "pygments_lexer": "ipython3",
   "version": "3.9.13"
  },
  "orig_nbformat": 4,
  "vscode": {
   "interpreter": {
    "hash": "e97e4ccf2f2017fe19623886582ba8d34dc0f85668fa692ecb30fa97945f713c"
   }
  }
 },
 "nbformat": 4,
 "nbformat_minor": 2
}
